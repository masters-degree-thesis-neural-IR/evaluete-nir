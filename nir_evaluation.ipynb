{
  "cells": [
    {
      "cell_type": "markdown",
      "metadata": {
        "id": "rF0T3YURGgQe"
      },
      "source": [
        "## DEPENDENCE INSTALL\n",
        "\n",
        "- Dependencies install for evaluation of metrics\n",
        "- Instalação das depedendencias necessárias para executar todos as avaliações"
      ]
    },
    {
      "cell_type": "code",
      "execution_count": null,
      "metadata": {
        "colab": {
          "base_uri": "https://localhost:8080/"
        },
        "id": "CwcXLbGWhnbV",
        "outputId": "b9106385-df56-402d-e0d9-22c46f7e592f"
      },
      "outputs": [],
      "source": [
        "%pip install numpy cython\n",
        "%pip install wheel\n",
        "%pip install ir_datasets\n",
        "%pip install scikit-learn\n",
        "%pip install nltk\n",
        "%pip install requests\n",
        "%pip install matplotlib\n",
        "%pip install pandas"
      ]
    },
    {
      "cell_type": "code",
      "execution_count": 30,
      "metadata": {
        "id": "eYX6dDnjhrfv"
      },
      "outputs": [],
      "source": [
        "import re\n",
        "import ir_datasets\n",
        "import numpy as np\n",
        "import requests\n",
        "import json\n",
        "import nltk\n",
        "from nltk.tokenize import word_tokenize"
      ]
    },
    {
      "cell_type": "code",
      "execution_count": 31,
      "metadata": {},
      "outputs": [],
      "source": [
        "dataset = ir_datasets.load('cranfield')"
      ]
    },
    {
      "cell_type": "code",
      "execution_count": 32,
      "metadata": {
        "colab": {
          "base_uri": "https://localhost:8080/"
        },
        "id": "SYex88DXh411",
        "outputId": "3f41420f-6847-4a26-a3a4-ccfe43cacf38"
      },
      "outputs": [
        {
          "data": {
            "text/plain": [
              "1400"
            ]
          },
          "execution_count": 32,
          "metadata": {},
          "output_type": "execute_result"
        }
      ],
      "source": [
        "dataset.docs_count()"
      ]
    },
    {
      "cell_type": "markdown",
      "metadata": {
        "id": "kfFNdi8_pmmJ"
      },
      "source": [
        "## INDEXAR DOCUMENTOS"
      ]
    },
    {
      "cell_type": "code",
      "execution_count": 304,
      "metadata": {
        "colab": {
          "base_uri": "https://localhost:8080/"
        },
        "id": "fAhT_EgUh78j",
        "outputId": "d3e21ce4-7e29-4e45-e907-73d3c7d45a8e"
      },
      "outputs": [
        {
          "name": "stderr",
          "output_type": "stream",
          "text": [
            "[nltk_data] Downloading package punkt to\n",
            "[nltk_data]     /Users/thiagoluizrodrigues/nltk_data...\n",
            "[nltk_data]   Package punkt is already up-to-date!\n"
          ]
        },
        {
          "name": "stdout",
          "output_type": "stream",
          "text": [
            "Indexed  1400\n"
          ]
        }
      ],
      "source": [
        "url = 'http://127.0.0.1:8080/nir'\n",
        "nltk.download(\"punkt\")\n",
        "count = 0\n",
        "for doc in dataset.docs_iter():\n",
        "\n",
        "  sents = list(word_tokenize(doc.text))\n",
        "\n",
        "  mystr = ' '.join(map(str, sents))\n",
        "\n",
        "  myobj = {\n",
        "            'id': doc.doc_id,\n",
        "            'title': doc.title.strip(),\n",
        "            'body': mystr.strip()\n",
        "          }\n",
        "\n",
        "  response = requests.post(url, json = myobj)\n",
        "  if response.status_code == 201:\n",
        "    count += 1\n",
        "  else:\n",
        "    print(\"DOC ID \", doc.doc_id, \"Status \", response.status_code)\n",
        "    print(response.text)\n",
        "\n",
        "print(\"Indexed \", count)"
      ]
    },
    {
      "cell_type": "code",
      "execution_count": 305,
      "metadata": {
        "colab": {
          "base_uri": "https://localhost:8080/"
        },
        "id": "8TgohiUAiGO5",
        "outputId": "2924ca3c-59e9-4eb2-e81c-1986533252ec"
      },
      "outputs": [
        {
          "data": {
            "text/plain": [
              "ir_datasets.datasets.cranfield.CranfieldDoc"
            ]
          },
          "execution_count": 305,
          "metadata": {},
          "output_type": "execute_result"
        }
      ],
      "source": [
        "dataset.docs_cls()"
      ]
    },
    {
      "cell_type": "markdown",
      "metadata": {
        "id": "Y4danPLyuz7P"
      },
      "source": [
        "## EFETUAR BUSCAS"
      ]
    },
    {
      "cell_type": "code",
      "execution_count": 306,
      "metadata": {
        "colab": {
          "base_uri": "https://localhost:8080/",
          "height": 520
        },
        "id": "bd-6uSs8_mSL",
        "outputId": "e4ffe7d7-a3f3-4ac6-ce2b-836a2b3d5275"
      },
      "outputs": [
        {
          "name": "stdout",
          "output_type": "stream",
          "text": [
            "Total..:  225\n"
          ]
        }
      ],
      "source": [
        "count = 0\n",
        "documents = []\n",
        "for query in dataset.queries_iter():\n",
        "\n",
        "  # sent = list(word_tokenize(query.text))\n",
        "  # mystr = ' '.join(map(str, sent))\n",
        "  qry = \"http://127.0.0.1:8080/nir?query=\" + query.text + \"&semantic=0\"\n",
        "  x = requests.get(qry)\n",
        "\n",
        "  if x.status_code == 200:\n",
        "    obj = json.loads(x.text)\n",
        "    documents.append({\n",
        "        \"query_id\":query.query_id,\n",
        "        \"result\":obj\n",
        "    })\n",
        "    count += 1\n",
        "\n",
        "print(\"Total..: \",count)\n",
        "  # print(\"Query ID:\", query.query_id, \"Status code:\", x.status_code)"
      ]
    },
    {
      "cell_type": "code",
      "execution_count": 307,
      "metadata": {},
      "outputs": [
        {
          "data": {
            "text/plain": [
              "[-1, 4, 3, 3, 0, 0, 0, 0, 4, 0]"
            ]
          },
          "execution_count": 307,
          "metadata": {},
          "output_type": "execute_result"
        }
      ],
      "source": [
        "import functions.documents_process as dp\n",
        "process = dp.DocumentProcess(dataset, documents,\"NIR\")\n",
        "process.get_query_relevance(query_id=1)"
      ]
    },
    {
      "cell_type": "code",
      "execution_count": 308,
      "metadata": {},
      "outputs": [
        {
          "name": "stdout",
          "output_type": "stream",
          "text": [
            "0.16285651706348964\n"
          ]
        },
        {
          "data": {
            "text/html": [
              "<div>\n",
              "<style scoped>\n",
              "    .dataframe tbody tr th:only-of-type {\n",
              "        vertical-align: middle;\n",
              "    }\n",
              "\n",
              "    .dataframe tbody tr th {\n",
              "        vertical-align: top;\n",
              "    }\n",
              "\n",
              "    .dataframe thead th {\n",
              "        text-align: right;\n",
              "    }\n",
              "</style>\n",
              "<table border=\"1\" class=\"dataframe\">\n",
              "  <thead>\n",
              "    <tr style=\"text-align: right;\">\n",
              "      <th></th>\n",
              "      <th>query_id</th>\n",
              "      <th>true_dcg_k</th>\n",
              "      <th>nir_dcg_k</th>\n",
              "      <th>nir_ndcg_k</th>\n",
              "    </tr>\n",
              "  </thead>\n",
              "  <tbody>\n",
              "    <tr>\n",
              "      <th>0</th>\n",
              "      <td>1</td>\n",
              "      <td>24.751266</td>\n",
              "      <td>5.519869</td>\n",
              "      <td>0.223014</td>\n",
              "    </tr>\n",
              "    <tr>\n",
              "      <th>1</th>\n",
              "      <td>2</td>\n",
              "      <td>20.037305</td>\n",
              "      <td>3.954396</td>\n",
              "      <td>0.197352</td>\n",
              "    </tr>\n",
              "    <tr>\n",
              "      <th>2</th>\n",
              "      <td>23</td>\n",
              "      <td>20.931823</td>\n",
              "      <td>1.000000</td>\n",
              "      <td>0.047774</td>\n",
              "    </tr>\n",
              "    <tr>\n",
              "      <th>3</th>\n",
              "      <td>35</td>\n",
              "      <td>2.700253</td>\n",
              "      <td>0.946395</td>\n",
              "      <td>0.350484</td>\n",
              "    </tr>\n",
              "    <tr>\n",
              "      <th>4</th>\n",
              "      <td>51</td>\n",
              "      <td>10.152239</td>\n",
              "      <td>0.602060</td>\n",
              "      <td>0.059303</td>\n",
              "    </tr>\n",
              "    <tr>\n",
              "      <th>5</th>\n",
              "      <td>94</td>\n",
              "      <td>15.231241</td>\n",
              "      <td>1.204120</td>\n",
              "      <td>0.079056</td>\n",
              "    </tr>\n",
              "    <tr>\n",
              "      <th>6</th>\n",
              "      <td>100</td>\n",
              "      <td>10.010156</td>\n",
              "      <td>1.160558</td>\n",
              "      <td>0.115938</td>\n",
              "    </tr>\n",
              "    <tr>\n",
              "      <th>7</th>\n",
              "      <td>189</td>\n",
              "      <td>10.676822</td>\n",
              "      <td>0.602060</td>\n",
              "      <td>0.056389</td>\n",
              "    </tr>\n",
              "    <tr>\n",
              "      <th>8</th>\n",
              "      <td>212</td>\n",
              "      <td>15.402942</td>\n",
              "      <td>3.695120</td>\n",
              "      <td>0.239897</td>\n",
              "    </tr>\n",
              "    <tr>\n",
              "      <th>9</th>\n",
              "      <td>214</td>\n",
              "      <td>7.297966</td>\n",
              "      <td>1.892789</td>\n",
              "      <td>0.259358</td>\n",
              "    </tr>\n",
              "  </tbody>\n",
              "</table>\n",
              "</div>"
            ],
            "text/plain": [
              "   query_id  true_dcg_k  nir_dcg_k  nir_ndcg_k\n",
              "0         1   24.751266   5.519869    0.223014\n",
              "1         2   20.037305   3.954396    0.197352\n",
              "2        23   20.931823   1.000000    0.047774\n",
              "3        35    2.700253   0.946395    0.350484\n",
              "4        51   10.152239   0.602060    0.059303\n",
              "5        94   15.231241   1.204120    0.079056\n",
              "6       100   10.010156   1.160558    0.115938\n",
              "7       189   10.676822   0.602060    0.056389\n",
              "8       212   15.402942   3.695120    0.239897\n",
              "9       214    7.297966   1.892789    0.259358"
            ]
          },
          "execution_count": 308,
          "metadata": {},
          "output_type": "execute_result"
        }
      ],
      "source": [
        "import pandas as pd\n",
        "import functions.evaluetion_functions as ev\n",
        "import functions.documents_process as dp\n",
        "\n",
        "metrics = ev.generate_metrics_dcg_k(dataset, documents,\"NIR\")\n",
        "\n",
        "df = pd.DataFrame(metrics)\n",
        "df.to_json('nir_ndcg.json')\n",
        "x = dp.sum_relevance(metrics['nir_ndcg_k']) / len(metrics['nir_ndcg_k'])\n",
        "print(x)\n",
        "df\n"
      ]
    },
    {
      "cell_type": "code",
      "execution_count": 309,
      "metadata": {},
      "outputs": [
        {
          "data": {
            "image/png": "[encoded data removed]",
            "text/plain": [
              "<Figure size 500x270 with 1 Axes>"
            ]
          },
          "metadata": {},
          "output_type": "display_data"
        }
      ],
      "source": [
        "import matplotlib.pyplot as plt\n",
        "\n",
        "\n",
        "# Note that even in the OO-style, we use `.pyplot.figure` to create the Figure.\n",
        "fig, ax = plt.subplots(figsize=(5, 2.7))\n",
        "# ax.scatter(relevance, true_relevance, s=50, facecolor='C0', edgecolor='k')\n",
        "ax.plot(metrics['true_dcg_k'], 'd', label='Relevancia verdadeira')\n",
        "ax.plot(metrics['nir_dcg_k'], 'o', label='Relevancia NIR')\n",
        "ax.plot([2, 0, 3, -1, 4, 3, 4, 0, 0, 0], 'o', label='Relevancia ELS')\n",
        "ax.set_xlabel('Valor de k@')\n",
        "ax.set_ylabel('Relevancia')\n",
        "ax.legend()\n",
        "ax.grid(True)\n"
      ]
    }
  ],
  "metadata": {
    "colab": {
      "collapsed_sections": [],
      "name": "Avaliação do sistema.ipynb",
      "provenance": [],
      "toc_visible": true
    },
    "kernelspec": {
      "display_name": "Python 3.9.13 64-bit",
      "language": "python",
      "name": "python3"
    },
    "language_info": {
      "codemirror_mode": {
        "name": "ipython",
        "version": 3
      },
      "file_extension": ".py",
      "mimetype": "text/x-python",
      "name": "python",
      "nbconvert_exporter": "python",
      "pygments_lexer": "ipython3",
      "version": "3.9.13"
    },
    "vscode": {
      "interpreter": {
        "hash": "a665b5d41d17b532ea9890333293a1b812fa0b73c9c25c950b3cedf1bebd0438"
      }
    }
  },
  "nbformat": 4,
  "nbformat_minor": 0
}

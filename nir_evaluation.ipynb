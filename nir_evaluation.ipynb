{
  "cells": [
    {
      "cell_type": "markdown",
      "metadata": {
        "id": "rF0T3YURGgQe"
      },
      "source": [
        "## DEPENDENCE INSTALL\n",
        "\n",
        "- Dependencies install for evaluation of metrics\n",
        "- Instalação das depedendencias necessárias para executar todos as avaliações"
      ]
    },
    {
      "cell_type": "code",
      "execution_count": null,
      "metadata": {
        "colab": {
          "base_uri": "https://localhost:8080/"
        },
        "id": "CwcXLbGWhnbV",
        "outputId": "b9106385-df56-402d-e0d9-22c46f7e592f"
      },
      "outputs": [],
      "source": [
        "%pip install numpy cython\n",
        "%pip install wheel\n",
        "%pip install ir_datasets\n",
        "%pip install scikit-learn\n",
        "%pip install nltk\n",
        "%pip install requests\n",
        "%pip install pandas"
      ]
    },
    {
      "cell_type": "code",
      "execution_count": 14,
      "metadata": {
        "id": "eYX6dDnjhrfv"
      },
      "outputs": [],
      "source": [
        "import ir_datasets\n",
        "import numpy as np\n",
        "import requests\n",
        "import json\n",
        "import nltk\n",
        "from nltk.tokenize import word_tokenize\n",
        "from sklearn.metrics import dcg_score\n",
        "from sklearn.metrics import ndcg_score\n"
      ]
    },
    {
      "cell_type": "code",
      "execution_count": 6,
      "metadata": {},
      "outputs": [],
      "source": [
        "dataset = ir_datasets.load('cranfield')\n"
      ]
    },
    {
      "cell_type": "code",
      "execution_count": 5,
      "metadata": {
        "colab": {
          "base_uri": "https://localhost:8080/"
        },
        "id": "SYex88DXh411",
        "outputId": "3f41420f-6847-4a26-a3a4-ccfe43cacf38"
      },
      "outputs": [
        {
          "data": {
            "text/plain": [
              "1400"
            ]
          },
          "execution_count": 5,
          "metadata": {},
          "output_type": "execute_result"
        }
      ],
      "source": [
        "dataset.docs_count()"
      ]
    },
    {
      "cell_type": "markdown",
      "metadata": {
        "id": "wV6TTTrNHGa8"
      },
      "source": [
        "## EVALUETION FUNCTIONS\n",
        "\n",
        "- \n",
        "- Implementação de funções em algoritimos para executar as avaliações\n"
      ]
    },
    {
      "cell_type": "markdown",
      "metadata": {
        "id": "bnfhbcrnHt2M"
      },
      "source": [
        "### Calculo do DCG@k"
      ]
    },
    {
      "cell_type": "code",
      "execution_count": 18,
      "metadata": {
        "id": "ggM7xnljHyT8"
      },
      "outputs": [],
      "source": [
        "def calc_dcg_k(relevance):\n",
        "  result = 0\n",
        "  for i in range(len(relevance)):\n",
        "    log = np.log2(1 + (i + 1))\n",
        "    result += (relevance[i] / log)\n",
        "  return result"
      ]
    },
    {
      "cell_type": "markdown",
      "metadata": {
        "id": "ti5Yjkr-H23c"
      },
      "source": [
        "### Calculo NDCG@K"
      ]
    },
    {
      "cell_type": "code",
      "execution_count": 19,
      "metadata": {
        "id": "lJ6-CObRIAPn"
      },
      "outputs": [],
      "source": [
        "def calc_ndcg_k(relevance, true_relevance):\n",
        "  return calc_dcg_k(relevance) / calc_dcg_k(true_relevance)"
      ]
    },
    {
      "cell_type": "markdown",
      "metadata": {
        "id": "LB8hj2oSIDst"
      },
      "source": [
        "#### Exemplos"
      ]
    },
    {
      "cell_type": "code",
      "execution_count": 15,
      "metadata": {
        "id": "zLhQZqWvIG9t"
      },
      "outputs": [],
      "source": [
        "relevance = [0,0,3]\n",
        "true_relevance = [4,3,3]"
      ]
    },
    {
      "cell_type": "code",
      "execution_count": 20,
      "metadata": {
        "colab": {
          "base_uri": "https://localhost:8080/"
        },
        "id": "B0X5ciEuIK8U",
        "outputId": "f0eb337f-5abc-43d1-acb8-77c38ccff533"
      },
      "outputs": [
        {
          "data": {
            "text/plain": [
              "0.20290041378171972"
            ]
          },
          "execution_count": 20,
          "metadata": {},
          "output_type": "execute_result"
        }
      ],
      "source": [
        "calc_ndcg_k(relevance, true_relevance)"
      ]
    },
    {
      "cell_type": "code",
      "execution_count": 26,
      "metadata": {
        "colab": {
          "base_uri": "https://localhost:8080/"
        },
        "id": "7_9ynHQxIOxM",
        "outputId": "b22f333b-bb5a-47ec-ff82-8c2ced573d71"
      },
      "outputs": [
        {
          "data": {
            "text/plain": [
              "0.9412217624647558"
            ]
          },
          "execution_count": 26,
          "metadata": {},
          "output_type": "execute_result"
        }
      ],
      "source": [
        "ndcg_score(np.asarray([true_relevance]), np.asarray([relevance]))"
      ]
    },
    {
      "cell_type": "markdown",
      "metadata": {
        "id": "kfFNdi8_pmmJ"
      },
      "source": [
        "## INDEXAR DOCUMENTOS"
      ]
    },
    {
      "cell_type": "code",
      "execution_count": 29,
      "metadata": {
        "id": "v8UD_9HMn9rf"
      },
      "outputs": [],
      "source": [
        "url = 'http://127.0.0.1:8080/nir'\n"
      ]
    },
    {
      "cell_type": "code",
      "execution_count": 30,
      "metadata": {
        "colab": {
          "base_uri": "https://localhost:8080/"
        },
        "id": "Q_dH94p6UFWN",
        "outputId": "10aa996c-5363-4b26-e51f-bf3fd642eb07"
      },
      "outputs": [
        {
          "name": "stderr",
          "output_type": "stream",
          "text": [
            "[nltk_data] Downloading package punkt to\n",
            "[nltk_data]     /Users/thiagoluizrodrigues/nltk_data...\n",
            "[nltk_data]   Package punkt is already up-to-date!\n"
          ]
        },
        {
          "data": {
            "text/plain": [
              "True"
            ]
          },
          "execution_count": 30,
          "metadata": {},
          "output_type": "execute_result"
        }
      ],
      "source": [
        "nltk.download(\"punkt\")"
      ]
    },
    {
      "cell_type": "code",
      "execution_count": 32,
      "metadata": {
        "colab": {
          "base_uri": "https://localhost:8080/"
        },
        "id": "fAhT_EgUh78j",
        "outputId": "d3e21ce4-7e29-4e45-e907-73d3c7d45a8e"
      },
      "outputs": [
        {
          "name": "stdout",
          "output_type": "stream",
          "text": [
            "Indexed  1400\n"
          ]
        }
      ],
      "source": [
        "count = 0\n",
        "\n",
        "for doc in dataset.docs_iter():\n",
        "\n",
        "  sent = list(word_tokenize(doc.text))\n",
        "  mystr = ' '.join(map(str,sent))\n",
        "\n",
        "  myobj = {\n",
        "            'id': doc.doc_id,\n",
        "            'title': doc.title.strip(),\n",
        "            'body': mystr.strip()\n",
        "          }\n",
        "  response = requests.post(url, json = myobj)\n",
        "  count += 1\n",
        "\n",
        "print(\"Indexed \", count)"
      ]
    },
    {
      "cell_type": "code",
      "execution_count": 33,
      "metadata": {
        "colab": {
          "base_uri": "https://localhost:8080/"
        },
        "id": "8TgohiUAiGO5",
        "outputId": "2924ca3c-59e9-4eb2-e81c-1986533252ec"
      },
      "outputs": [
        {
          "data": {
            "text/plain": [
              "ir_datasets.datasets.cranfield.CranfieldDoc"
            ]
          },
          "execution_count": 33,
          "metadata": {},
          "output_type": "execute_result"
        }
      ],
      "source": [
        "dataset.docs_cls()"
      ]
    },
    {
      "cell_type": "markdown",
      "metadata": {
        "id": "gWWojMSICiB2"
      },
      "source": [
        "### Calculo do DCG@k"
      ]
    },
    {
      "cell_type": "markdown",
      "metadata": {
        "id": "Y4danPLyuz7P"
      },
      "source": [
        "## EFETUAR BUSCAS"
      ]
    },
    {
      "cell_type": "code",
      "execution_count": 99,
      "metadata": {
        "id": "7O2gEundCi0K"
      },
      "outputs": [],
      "source": [
        "documents = []"
      ]
    },
    {
      "cell_type": "code",
      "execution_count": 100,
      "metadata": {
        "id": "TIM-foHku6dj"
      },
      "outputs": [],
      "source": [
        "url = \"http://127.0.0.1:8080/nir?query=\""
      ]
    },
    {
      "cell_type": "code",
      "execution_count": 101,
      "metadata": {
        "colab": {
          "base_uri": "https://localhost:8080/",
          "height": 520
        },
        "id": "bd-6uSs8_mSL",
        "outputId": "e4ffe7d7-a3f3-4ac6-ce2b-836a2b3d5275"
      },
      "outputs": [
        {
          "name": "stdout",
          "output_type": "stream",
          "text": [
            "Total..:  225\n"
          ]
        }
      ],
      "source": [
        "count = 0\n",
        "for query in dataset.queries_iter():\n",
        "\n",
        "  # sent = list(word_tokenize(query.text))\n",
        "  # mystr = ' '.join(map(str, sent))\n",
        "  qry = url + query.text  \n",
        "  x = requests.get(qry)\n",
        "\n",
        "  if x.status_code == 200:\n",
        "    obj = json.loads(x.text)\n",
        "    documents.append({\n",
        "        \"query_id\":query.query_id,\n",
        "        \"result\":obj\n",
        "    })\n",
        "    count += 1\n",
        "\n",
        "\n",
        "print(\"Total..: \",count)\n",
        "  # print(\"Query ID:\", query.query_id, \"Status code:\", x.status_code)"
      ]
    },
    {
      "cell_type": "code",
      "execution_count": 102,
      "metadata": {
        "colab": {
          "base_uri": "https://localhost:8080/"
        },
        "id": "kwKiZ5TrDJRj",
        "outputId": "f68d83db-4eec-4389-f0de-3f3da1c030ca"
      },
      "outputs": [
        {
          "name": "stdout",
          "output_type": "stream",
          "text": [
            "{'query_id': '1', 'result': {'total': 274, 'duration': '802.489917ms', 'queryResults': [{'similarity': 0.17104238714767325, 'document': {'id': '486', 'title': '', 'body': ''}}, {'similarity': 0.15872277880080637, 'document': {'id': '1268', 'title': '', 'body': ''}}, {'similarity': 0.1492770227017141, 'document': {'id': '13', 'title': '', 'body': ''}}, {'similarity': 0.1371058741368367, 'document': {'id': '51', 'title': '', 'body': ''}}, {'similarity': 0.13016029165458137, 'document': {'id': '792', 'title': '', 'body': ''}}, {'similarity': 0.1297015677523379, 'document': {'id': '1144', 'title': '', 'body': ''}}, {'similarity': 0.09510695116558557, 'document': {'id': '12', 'title': '', 'body': ''}}, {'similarity': 0.0939462591992466, 'document': {'id': '686', 'title': '', 'body': ''}}, {'similarity': 0.08945809941171916, 'document': {'id': '156', 'title': '', 'body': ''}}, {'similarity': 0.08513119832629595, 'document': {'id': '685', 'title': '', 'body': ''}}, {'similarity': 0.08097151609496994, 'document': {'id': '184', 'title': '', 'body': ''}}, {'similarity': 0.07976945408788119, 'document': {'id': '114', 'title': '', 'body': ''}}, {'similarity': 0.07842608052730239, 'document': {'id': '252', 'title': '', 'body': ''}}, {'similarity': 0.07427756199512553, 'document': {'id': '25', 'title': '', 'body': ''}}, {'similarity': 0.07157233224422664, 'document': {'id': '746', 'title': '', 'body': ''}}, {'similarity': 0.07157233224422663, 'document': {'id': '329', 'title': '', 'body': ''}}, {'similarity': 0.06984705368910021, 'document': {'id': '315', 'title': '', 'body': ''}}, {'similarity': 0.06970623125098567, 'document': {'id': '100', 'title': '', 'body': ''}}, {'similarity': 0.06896128164893174, 'document': {'id': '193', 'title': '', 'body': ''}}, {'similarity': 0.06847035272023927, 'document': {'id': '1169', 'title': '', 'body': ''}}, {'similarity': 0.06812567156648416, 'document': {'id': '878', 'title': '', 'body': ''}}, {'similarity': 0.06784758197878528, 'document': {'id': '82', 'title': '', 'body': ''}}, {'similarity': 0.06672832533597306, 'document': {'id': '435', 'title': '', 'body': ''}}, {'similarity': 0.06474399940484502, 'document': {'id': '332', 'title': '', 'body': ''}}, {'similarity': 0.06120670082992856, 'document': {'id': '665', 'title': '', 'body': ''}}, {'similarity': 0.059612124124996384, 'document': {'id': '56', 'title': '', 'body': ''}}, {'similarity': 0.059612124124996384, 'document': {'id': '57', 'title': '', 'body': ''}}, {'similarity': 0.05940205693491812, 'document': {'id': '747', 'title': '', 'body': ''}}, {'similarity': 0.05827374254640989, 'document': {'id': '253', 'title': '', 'body': ''}}, {'similarity': 0.056531715162143684, 'document': {'id': '540', 'title': '', 'body': ''}}, {'similarity': 0.0536766106470834, 'document': {'id': '52', 'title': '', 'body': ''}}, {'similarity': 0.04969657081818616, 'document': {'id': '781', 'title': '', 'body': ''}}, {'similarity': 0.04831618524914113, 'document': {'id': '423', 'title': '', 'body': ''}}, {'similarity': 0.047384726901940344, 'document': {'id': '202', 'title': '', 'body': ''}}, {'similarity': 0.0469304629196448, 'document': {'id': '78', 'title': '', 'body': ''}}, {'similarity': 0.046804299674565425, 'document': {'id': '141', 'title': '', 'body': ''}}, {'similarity': 0.04676811516959374, 'document': {'id': '1168', 'title': '', 'body': ''}}, {'similarity': 0.045385255191625395, 'document': {'id': '1167', 'title': '', 'body': ''}}, {'similarity': 0.04500919459227327, 'document': {'id': '69', 'title': '', 'body': ''}}, {'similarity': 0.04485256390993259, 'document': {'id': '1186', 'title': '', 'body': ''}}, {'similarity': 0.04485256390993259, 'document': {'id': '232', 'title': '', 'body': ''}}, {'similarity': 0.04485256390993259, 'document': {'id': '349', 'title': '', 'body': ''}}, {'similarity': 0.0436106728791165, 'document': {'id': '606', 'title': '', 'body': ''}}, {'similarity': 0.0436106728791165, 'document': {'id': '280', 'title': '', 'body': ''}}, {'similarity': 0.0436106728791165, 'document': {'id': '429', 'title': '', 'body': ''}}, {'similarity': 0.042589587781346944, 'document': {'id': '874', 'title': '', 'body': ''}}, {'similarity': 0.04253865015401802, 'document': {'id': '1178', 'title': '', 'body': ''}}, {'similarity': 0.04253865015401802, 'document': {'id': '154', 'title': '', 'body': ''}}, {'similarity': 0.04253865015401802, 'document': {'id': '158', 'title': '', 'body': ''}}, {'similarity': 0.04219882039449309, 'document': {'id': '914', 'title': '', 'body': ''}}, {'similarity': 0.04219882039449308, 'document': {'id': '658', 'title': '', 'body': ''}}, {'similarity': 0.04207265714941371, 'document': {'id': '211', 'title': '', 'body': ''}}, {'similarity': 0.04207265714941371, 'document': {'id': '216', 'title': '', 'body': ''}}, {'similarity': 0.04167712357346179, 'document': {'id': '573', 'title': '', 'body': ''}}, {'similarity': 0.038330533336539636, 'document': {'id': '663', 'title': '', 'body': ''}}, {'similarity': 0.037923596080047764, 'document': {'id': '404', 'title': '', 'body': ''}}, {'similarity': 0.037124620132669275, 'document': {'id': '875', 'title': '', 'body': ''}}, {'similarity': 0.03660768950073604, 'document': {'id': '370', 'title': '', 'body': ''}}, {'similarity': 0.03635342337788868, 'document': {'id': '1191', 'title': '', 'body': ''}}, {'similarity': 0.03635342337788868, 'document': {'id': '643', 'title': '', 'body': ''}}, {'similarity': 0.03611895218503735, 'document': {'id': '195', 'title': '', 'body': ''}}, {'similarity': 0.03599278893995797, 'document': {'id': '1074', 'title': '', 'body': ''}}, {'similarity': 0.03599278893995796, 'document': {'id': '798', 'title': '', 'body': ''}}, {'similarity': 0.035730700805503265, 'document': {'id': '29', 'title': '', 'body': ''}}, {'similarity': 0.035479186634025106, 'document': {'id': '244', 'title': '', 'body': ''}}, {'similarity': 0.035479186634025106, 'document': {'id': '1155', 'title': '', 'body': ''}}, {'similarity': 0.03521377017357003, 'document': {'id': '1380', 'title': '', 'body': ''}}, {'similarity': 0.03518864501779601, 'document': {'id': '1166', 'title': '', 'body': ''}}, {'similarity': 0.03518864501779601, 'document': {'id': '1165', 'title': '', 'body': ''}}, {'similarity': 0.03518864501779601, 'document': {'id': '884', 'title': '', 'body': ''}}, {'similarity': 0.035088419247171244, 'document': {'id': '721', 'title': '', 'body': ''}}, {'similarity': 0.03481258441844389, 'document': {'id': '316', 'title': '', 'body': ''}}, {'similarity': 0.034812584418443884, 'document': {'id': '213', 'title': '', 'body': ''}}, {'similarity': 0.034812584418443884, 'document': {'id': '262', 'title': '', 'body': ''}}, {'similarity': 0.034510247861576256, 'document': {'id': '755', 'title': '', 'body': ''}}, {'similarity': 0.03368107592333094, 'document': {'id': '172', 'title': '', 'body': ''}}, {'similarity': 0.03368107592333094, 'document': {'id': '209', 'title': '', 'body': ''}}, {'similarity': 0.033479714923710165, 'document': {'id': '700', 'title': '', 'body': ''}}, {'similarity': 0.033479714923710165, 'document': {'id': '378', 'title': '', 'body': ''}}, {'similarity': 0.033479714923710165, 'document': {'id': '309', 'title': '', 'body': ''}}, {'similarity': 0.033479714923710165, 'document': {'id': '876', 'title': '', 'body': ''}}, {'similarity': 0.033479714923710165, 'document': {'id': '214', 'title': '', 'body': ''}}, {'similarity': 0.03301717015264201, 'document': {'id': '603', 'title': '', 'body': ''}}, {'similarity': 0.03252365001338005, 'document': {'id': '197', 'title': '', 'body': ''}}, {'similarity': 0.03252365001338004, 'document': {'id': '1338', 'title': '', 'body': ''}}, {'similarity': 0.032006719381446815, 'document': {'id': '1111', 'title': '', 'body': ''}}, {'similarity': 0.029997972321250694, 'document': {'id': '577', 'title': '', 'body': ''}}, {'similarity': 0.029997972321250694, 'document': {'id': '180', 'title': '', 'body': ''}}, {'similarity': 0.029997972321250694, 'document': {'id': '140', 'title': '', 'body': ''}}, {'similarity': 0.029997972321250694, 'document': {'id': '494', 'title': '', 'body': ''}}, {'similarity': 0.029997972321250694, 'document': {'id': '300', 'title': '', 'body': ''}}, {'similarity': 0.02724351047080318, 'document': {'id': '89', 'title': '', 'body': ''}}, {'similarity': 0.02685274308394932, 'document': {'id': '726', 'title': '', 'body': ''}}, {'similarity': 0.026726579838869953, 'document': {'id': '373', 'title': '', 'body': ''}}, {'similarity': 0.026726579838869946, 'document': {'id': '283', 'title': '', 'body': ''}}, {'similarity': 0.026726579838869946, 'document': {'id': '572', 'title': '', 'body': ''}}, {'similarity': 0.025244038760488238, 'document': {'id': '124', 'title': '', 'body': ''}}, {'similarity': 0.025244038760488238, 'document': {'id': '526', 'title': '', 'body': ''}}, {'similarity': 0.024928538248524954, 'document': {'id': '1334', 'title': '', 'body': ''}}, {'similarity': 0.024928538248524954, 'document': {'id': '1254', 'title': '', 'body': ''}}, {'similarity': 0.02492853824852495, 'document': {'id': '1361', 'title': '', 'body': ''}}, {'similarity': 0.02492853824852495, 'document': {'id': '1298', 'title': '', 'body': ''}}, {'similarity': 0.02492853824852495, 'document': {'id': '584', 'title': '', 'body': ''}}, {'similarity': 0.02492853824852495, 'document': {'id': '1066', 'title': '', 'body': ''}}, {'similarity': 0.02492853824852495, 'document': {'id': '817', 'title': '', 'body': ''}}, {'similarity': 0.02492853824852495, 'document': {'id': '1332', 'title': '', 'body': ''}}, {'similarity': 0.02492853824852495, 'document': {'id': '456', 'title': '', 'body': ''}}, {'similarity': 0.02492853824852495, 'document': {'id': '960', 'title': '', 'body': ''}}, {'similarity': 0.02492853824852495, 'document': {'id': '541', 'title': '', 'body': ''}}, {'similarity': 0.024313637687746872, 'document': {'id': '464', 'title': '', 'body': ''}}, {'similarity': 0.024313637687746872, 'document': {'id': '1225', 'title': '', 'body': ''}}, {'similarity': 0.024313637687746872, 'document': {'id': '999', 'title': '', 'body': ''}}, {'similarity': 0.024313637687746872, 'document': {'id': '102', 'title': '', 'body': ''}}, {'similarity': 0.024313637687746872, 'document': {'id': '946', 'title': '', 'body': ''}}, {'similarity': 0.024313637687746872, 'document': {'id': '513', 'title': '', 'body': ''}}, {'similarity': 0.024313637687746872, 'document': {'id': '824', 'title': '', 'body': ''}}, {'similarity': 0.02431363768774687, 'document': {'id': '431', 'title': '', 'body': ''}}, {'similarity': 0.02431363768774687, 'document': {'id': '634', 'title': '', 'body': ''}}, {'similarity': 0.024001396381434788, 'document': {'id': '311', 'title': '', 'body': ''}}, {'similarity': 0.02353461892135894, 'document': {'id': '415', 'title': '', 'body': ''}}, {'similarity': 0.02353461892135894, 'document': {'id': '1328', 'title': '', 'body': ''}}, {'similarity': 0.02353461892135894, 'document': {'id': '1163', 'title': '', 'body': ''}}, {'similarity': 0.02353461892135894, 'document': {'id': '1197', 'title': '', 'body': ''}}, {'similarity': 0.02353461892135894, 'document': {'id': '47', 'title': '', 'body': ''}}, {'similarity': 0.02353461892135894, 'document': {'id': '1042', 'title': '', 'body': ''}}, {'similarity': 0.02353461892135894, 'document': {'id': '883', 'title': '', 'body': ''}}, {'similarity': 0.02353461892135894, 'document': {'id': '453', 'title': '', 'body': ''}}, {'similarity': 0.02353461892135894, 'document': {'id': '497', 'title': '', 'body': ''}}, {'similarity': 0.023484465749501554, 'document': {'id': '1300', 'title': '', 'body': ''}}, {'similarity': 0.023484465749501554, 'document': {'id': '1089', 'title': '', 'body': ''}}, {'similarity': 0.023484465749501554, 'document': {'id': '908', 'title': '', 'body': ''}}, {'similarity': 0.023484465749501554, 'document': {'id': '374', 'title': '', 'body': ''}}, {'similarity': 0.023484465749501554, 'document': {'id': '364', 'title': '', 'body': ''}}, {'similarity': 0.023283104749880785, 'document': {'id': '420', 'title': '', 'body': ''}}, {'similarity': 0.02328310474988078, 'document': {'id': '108', 'title': '', 'body': ''}}, {'similarity': 0.02328310474988078, 'document': {'id': '285', 'title': '', 'body': ''}}, {'similarity': 0.022392692057973708, 'document': {'id': '759', 'title': '', 'body': ''}}, {'similarity': 0.022392692057973708, 'document': {'id': '880', 'title': '', 'body': ''}}, {'similarity': 0.021875761426040474, 'document': {'id': '624', 'title': '', 'body': ''}}, {'similarity': 0.021875761426040474, 'document': {'id': '67', 'title': '', 'body': ''}}, {'similarity': 0.021875761426040474, 'document': {'id': '58', 'title': '', 'body': ''}}, {'similarity': 0.021875761426040474, 'document': {'id': '352', 'title': '', 'body': ''}}, {'similarity': 0.021875761426040474, 'document': {'id': '36', 'title': '', 'body': ''}}, {'similarity': 0.021875761426040474, 'document': {'id': '204', 'title': '', 'body': ''}}, {'similarity': 0.021875761426040474, 'document': {'id': '986', 'title': '', 'body': ''}}, {'similarity': 0.021875761426040474, 'document': {'id': '169', 'title': '', 'body': ''}}, {'similarity': 0.021875761426040474, 'document': {'id': '945', 'title': '', 'body': ''}}, {'similarity': 0.021875761426040474, 'document': {'id': '441', 'title': '', 'body': ''}}, {'similarity': 0.021875761426040474, 'document': {'id': '302', 'title': '', 'body': ''}}, {'similarity': 0.021875761426040474, 'document': {'id': '629', 'title': '', 'body': ''}}, {'similarity': 0.021875761426040474, 'document': {'id': '430', 'title': '', 'body': ''}}, {'similarity': 0.021875761426040467, 'document': {'id': '24', 'title': '', 'body': ''}}, {'similarity': 0.021338018900430918, 'document': {'id': '1362', 'title': '', 'body': ''}}, {'similarity': 0.021338018900430918, 'document': {'id': '1072', 'title': '', 'body': ''}}, {'similarity': 0.021338018900430918, 'document': {'id': '509', 'title': '', 'body': ''}}, {'similarity': 0.021338018900430918, 'document': {'id': '859', 'title': '', 'body': ''}}, {'similarity': 0.021338018900430918, 'document': {'id': '860', 'title': '', 'body': ''}}, {'similarity': 0.021338018900430918, 'document': {'id': '66', 'title': '', 'body': ''}}, {'similarity': 0.021338018900430918, 'document': {'id': '1294', 'title': '', 'body': ''}}, {'similarity': 0.021338018900430918, 'document': {'id': '888', 'title': '', 'body': ''}}, {'similarity': 0.021338018900430918, 'document': {'id': '407', 'title': '', 'body': ''}}, {'similarity': 0.021338018900430918, 'document': {'id': '260', 'title': '', 'body': ''}}, {'similarity': 0.021338018900430918, 'document': {'id': '662', 'title': '', 'body': ''}}, {'similarity': 0.021338018900430918, 'document': {'id': '789', 'title': '', 'body': ''}}, {'similarity': 0.020327568129235717, 'document': {'id': '33', 'title': '', 'body': ''}}, {'similarity': 0.020327568129235717, 'document': {'id': '297', 'title': '', 'body': ''}}, {'similarity': 0.020327568129235717, 'document': {'id': '96', 'title': '', 'body': ''}}, {'similarity': 0.020327568129235717, 'document': {'id': '490', 'title': '', 'body': ''}}, {'similarity': 0.015047428586658858, 'document': {'id': '1311', 'title': '', 'body': ''}}, {'similarity': 0.015047428586658858, 'document': {'id': '1336', 'title': '', 'body': ''}}, {'similarity': 0.015047428586658858, 'document': {'id': '218', 'title': '', 'body': ''}}, {'similarity': 0.015047428586658857, 'document': {'id': '397', 'title': '', 'body': ''}}, {'similarity': 0.015047428586658857, 'document': {'id': '1310', 'title': '', 'body': ''}}, {'similarity': 0.015047428586658857, 'document': {'id': '1236', 'title': '', 'body': ''}}, {'similarity': 0.015047428586658857, 'document': {'id': '104', 'title': '', 'body': ''}}, {'similarity': 0.015047428586658857, 'document': {'id': '123', 'title': '', 'body': ''}}, {'similarity': 0.015047428586658857, 'document': {'id': '28', 'title': '', 'body': ''}}, {'similarity': 0.015047428586658857, 'document': {'id': '1260', 'title': '', 'body': ''}}, {'similarity': 0.015047428586658857, 'document': {'id': '84', 'title': '', 'body': ''}}, {'similarity': 0.015047428586658857, 'document': {'id': '304', 'title': '', 'body': ''}}, {'similarity': 0.015047428586658857, 'document': {'id': '657', 'title': '', 'body': ''}}, {'similarity': 0.015047428586658857, 'document': {'id': '243', 'title': '', 'body': ''}}, {'similarity': 0.015047428586658857, 'document': {'id': '27', 'title': '', 'body': ''}}, {'similarity': 0.015047428586658857, 'document': {'id': '591', 'title': '', 'body': ''}}, {'similarity': 0.012196081884144326, 'document': {'id': '719', 'title': '', 'body': ''}}, {'similarity': 0.012196081884144326, 'document': {'id': '1153', 'title': '', 'body': ''}}, {'similarity': 0.012196081884144325, 'document': {'id': '1290', 'title': '', 'body': ''}}, {'similarity': 0.012196081884144325, 'document': {'id': '1001', 'title': '', 'body': ''}}, {'similarity': 0.012196081884144325, 'document': {'id': '947', 'title': '', 'body': ''}}, {'similarity': 0.012196081884144325, 'document': {'id': '645', 'title': '', 'body': ''}}, {'similarity': 0.012196081884144325, 'document': {'id': '1378', 'title': '', 'body': ''}}, {'similarity': 0.012196081884144325, 'document': {'id': '536', 'title': '', 'body': ''}}, {'similarity': 0.012196081884144325, 'document': {'id': '751', 'title': '', 'body': ''}}, {'similarity': 0.012196081884144325, 'document': {'id': '1000', 'title': '', 'body': ''}}, {'similarity': 0.012196081884144325, 'document': {'id': '879', 'title': '', 'body': ''}}, {'similarity': 0.012196081884144325, 'document': {'id': '1350', 'title': '', 'body': ''}}, {'similarity': 0.012196081884144325, 'document': {'id': '1113', 'title': '', 'body': ''}}, {'similarity': 0.012196081884144325, 'document': {'id': '388', 'title': '', 'body': ''}}, {'similarity': 0.012196081884144325, 'document': {'id': '1305', 'title': '', 'body': ''}}, {'similarity': 0.012196081884144325, 'document': {'id': '1180', 'title': '', 'body': ''}}, {'similarity': 0.012196081884144325, 'document': {'id': '1218', 'title': '', 'body': ''}}, {'similarity': 0.012196081884144325, 'document': {'id': '543', 'title': '', 'body': ''}}, {'similarity': 0.012196081884144325, 'document': {'id': '272', 'title': '', 'body': ''}}, {'similarity': 0.012196081884144325, 'document': {'id': '314', 'title': '', 'body': ''}}, {'similarity': 0.012196081884144321, 'document': {'id': '808', 'title': '', 'body': ''}}, {'similarity': 0.011805314497290468, 'document': {'id': '909', 'title': '', 'body': ''}}, {'similarity': 0.011805314497290465, 'document': {'id': '245', 'title': '', 'body': ''}}, {'similarity': 0.011805314497290465, 'document': {'id': '345', 'title': '', 'body': ''}}, {'similarity': 0.011805314497290465, 'document': {'id': '804', 'title': '', 'body': ''}}, {'similarity': 0.011805314497290465, 'document': {'id': '1051', 'title': '', 'body': ''}}, {'similarity': 0.011805314497290465, 'document': {'id': '724', 'title': '', 'body': ''}}, {'similarity': 0.011805314497290465, 'document': {'id': '416', 'title': '', 'body': ''}}, {'similarity': 0.011805314497290465, 'document': {'id': '1246', 'title': '', 'body': ''}}, {'similarity': 0.011805314497290465, 'document': {'id': '911', 'title': '', 'body': ''}}, {'similarity': 0.011805314497290465, 'document': {'id': '1064', 'title': '', 'body': ''}}, {'similarity': 0.011805314497290465, 'document': {'id': '725', 'title': '', 'body': ''}}, {'similarity': 0.011805314497290465, 'document': {'id': '917', 'title': '', 'body': ''}}, {'similarity': 0.011805314497290465, 'document': {'id': '948', 'title': '', 'body': ''}}, {'similarity': 0.011805314497290465, 'document': {'id': '220', 'title': '', 'body': ''}}, {'similarity': 0.011805314497290465, 'document': {'id': '76', 'title': '', 'body': ''}}, {'similarity': 0.011805314497290465, 'document': {'id': '925', 'title': '', 'body': ''}}, {'similarity': 0.011805314497290465, 'document': {'id': '251', 'title': '', 'body': ''}}, {'similarity': 0.011805314497290465, 'document': {'id': '882', 'title': '', 'body': ''}}, {'similarity': 0.011805314497290465, 'document': {'id': '1170', 'title': '', 'body': ''}}, {'similarity': 0.011805314497290465, 'document': {'id': '75', 'title': '', 'body': ''}}, {'similarity': 0.011805314497290463, 'document': {'id': '810', 'title': '', 'body': ''}}, {'similarity': 0.011805314497290463, 'document': {'id': '836', 'title': '', 'body': ''}}, {'similarity': 0.011679151252211093, 'document': {'id': '101', 'title': '', 'body': ''}}, {'similarity': 0.011679151252211093, 'document': {'id': '413', 'title': '', 'body': ''}}, {'similarity': 0.011679151252211091, 'document': {'id': '152', 'title': '', 'body': ''}}, {'similarity': 0.011679151252211091, 'document': {'id': '215', 'title': '', 'body': ''}}, {'similarity': 0.011679151252211091, 'document': {'id': '34', 'title': '', 'body': ''}}, {'similarity': 0.011679151252211091, 'document': {'id': '205', 'title': '', 'body': ''}}, {'similarity': 0.011679151252211091, 'document': {'id': '406', 'title': '', 'body': ''}}, {'similarity': 0.011679151252211091, 'document': {'id': '223', 'title': '', 'body': ''}}, {'similarity': 0.011679151252211091, 'document': {'id': '201', 'title': '', 'body': ''}}, {'similarity': 0.011679151252211091, 'document': {'id': '401', 'title': '', 'body': ''}}, {'similarity': 0.011679151252211091, 'document': {'id': '79', 'title': '', 'body': ''}}, {'similarity': 0.011679151252211091, 'document': {'id': '236', 'title': '', 'body': ''}}, {'similarity': 0.011679151252211091, 'document': {'id': '230', 'title': '', 'body': ''}}, {'similarity': 0.011679151252211091, 'document': {'id': '229', 'title': '', 'body': ''}}, {'similarity': 0.011679151252211091, 'document': {'id': '125', 'title': '', 'body': ''}}, {'similarity': 0.011679151252211091, 'document': {'id': '142', 'title': '', 'body': ''}}, {'similarity': 0.011679151252211091, 'document': {'id': '189', 'title': '', 'body': ''}}, {'similarity': 0.011679151252211091, 'document': {'id': '288', 'title': '', 'body': ''}}, {'similarity': 0.011679151252211091, 'document': {'id': '122', 'title': '', 'body': ''}}, {'similarity': 0.011679151252211091, 'document': {'id': '391', 'title': '', 'body': ''}}, {'similarity': 0.011679151252211091, 'document': {'id': '170', 'title': '', 'body': ''}}, {'similarity': 0.011679151252211091, 'document': {'id': '353', 'title': '', 'body': ''}}, {'similarity': 0.011679151252211091, 'document': {'id': '360', 'title': '', 'body': ''}}, {'similarity': 0.01167915125221109, 'document': {'id': '198', 'title': '', 'body': ''}}, {'similarity': 0.01167915125221109, 'document': {'id': '212', 'title': '', 'body': ''}}, {'similarity': 0.010196610173829383, 'document': {'id': '679', 'title': '', 'body': ''}}, {'similarity': 0.010196610173829381, 'document': {'id': '240', 'title': '', 'body': ''}}, {'similarity': 0.010196610173829381, 'document': {'id': '222', 'title': '', 'body': ''}}, {'similarity': 0.010196610173829381, 'document': {'id': '217', 'title': '', 'body': ''}}, {'similarity': 0.010196610173829381, 'document': {'id': '670', 'title': '', 'body': ''}}, {'similarity': 0.010196610173829381, 'document': {'id': '699', 'title': '', 'body': ''}}, {'similarity': 0.010196610173829381, 'document': {'id': '904', 'title': '', 'body': ''}}, {'similarity': 0.010196610173829381, 'document': {'id': '795', 'title': '', 'body': ''}}, {'similarity': 0.010196610173829381, 'document': {'id': '683', 'title': '', 'body': ''}}, {'similarity': 0.010196610173829381, 'document': {'id': '239', 'title': '', 'body': ''}}, {'similarity': 0.010196610173829381, 'document': {'id': '666', 'title': '', 'body': ''}}, {'similarity': 0.010196610173829381, 'document': {'id': '19', 'title': '', 'body': ''}}, {'similarity': 0.010196610173829381, 'document': {'id': '238', 'title': '', 'body': ''}}, {'similarity': 0.010196610173829381, 'document': {'id': '592', 'title': '', 'body': ''}}, {'similarity': 0.010196610173829381, 'document': {'id': '248', 'title': '', 'body': ''}}, {'similarity': 0.010196610173829381, 'document': {'id': '671', 'title': '', 'body': ''}}, {'similarity': 0.010196610173829381, 'document': {'id': '631', 'title': '', 'body': ''}}, {'similarity': 0.010196610173829381, 'document': {'id': '442', 'title': '', 'body': ''}}, {'similarity': 0.010196610173829381, 'document': {'id': '468', 'title': '', 'body': ''}}, {'similarity': 0.010196610173829381, 'document': {'id': '32', 'title': '', 'body': ''}}, {'similarity': 0.010196610173829381, 'document': {'id': '103', 'title': '', 'body': ''}}, {'similarity': 0.010196610173829381, 'document': {'id': '380', 'title': '', 'body': ''}}]}}\n"
          ]
        }
      ],
      "source": [
        "for doc in documents[0:1]:\n",
        "  print(doc) "
      ]
    },
    {
      "cell_type": "code",
      "execution_count": 38,
      "metadata": {
        "colab": {
          "base_uri": "https://localhost:8080/",
          "height": 332
        },
        "id": "nFsImZY1PNGa",
        "outputId": "4ad75e6a-40c3-453d-99bd-46bd05b64168"
      },
      "outputs": [
        {
          "data": {
            "text/html": [
              "<div>\n",
              "<style scoped>\n",
              "    .dataframe tbody tr th:only-of-type {\n",
              "        vertical-align: middle;\n",
              "    }\n",
              "\n",
              "    .dataframe tbody tr th {\n",
              "        vertical-align: top;\n",
              "    }\n",
              "\n",
              "    .dataframe thead th {\n",
              "        text-align: right;\n",
              "    }\n",
              "</style>\n",
              "<table border=\"1\" class=\"dataframe\">\n",
              "  <thead>\n",
              "    <tr style=\"text-align: right;\">\n",
              "      <th></th>\n",
              "      <th>query_id</th>\n",
              "      <th>text</th>\n",
              "    </tr>\n",
              "  </thead>\n",
              "  <tbody>\n",
              "    <tr>\n",
              "      <th>0</th>\n",
              "      <td>1</td>\n",
              "      <td>what similarity laws must be obeyed when const...</td>\n",
              "    </tr>\n",
              "    <tr>\n",
              "      <th>1</th>\n",
              "      <td>2</td>\n",
              "      <td>what are the structural and aeroelastic proble...</td>\n",
              "    </tr>\n",
              "    <tr>\n",
              "      <th>2</th>\n",
              "      <td>4</td>\n",
              "      <td>what problems of heat conduction in composite ...</td>\n",
              "    </tr>\n",
              "    <tr>\n",
              "      <th>3</th>\n",
              "      <td>8</td>\n",
              "      <td>can a criterion be developed to show empirical...</td>\n",
              "    </tr>\n",
              "    <tr>\n",
              "      <th>4</th>\n",
              "      <td>9</td>\n",
              "      <td>what chemical kinetic system is applicable to ...</td>\n",
              "    </tr>\n",
              "    <tr>\n",
              "      <th>...</th>\n",
              "      <td>...</td>\n",
              "      <td>...</td>\n",
              "    </tr>\n",
              "    <tr>\n",
              "      <th>220</th>\n",
              "      <td>353</td>\n",
              "      <td>papers applicable to this problem (calculation...</td>\n",
              "    </tr>\n",
              "    <tr>\n",
              "      <th>221</th>\n",
              "      <td>355</td>\n",
              "      <td>has anyone investigated the shear buckling of ...</td>\n",
              "    </tr>\n",
              "    <tr>\n",
              "      <th>222</th>\n",
              "      <td>356</td>\n",
              "      <td>papers on shear buckling of unstiffened rectan...</td>\n",
              "    </tr>\n",
              "    <tr>\n",
              "      <th>223</th>\n",
              "      <td>360</td>\n",
              "      <td>in practice, how close to reality are the assu...</td>\n",
              "    </tr>\n",
              "    <tr>\n",
              "      <th>224</th>\n",
              "      <td>365</td>\n",
              "      <td>what design factors can be used to control lif...</td>\n",
              "    </tr>\n",
              "  </tbody>\n",
              "</table>\n",
              "<p>225 rows × 2 columns</p>\n",
              "</div>"
            ],
            "text/plain": [
              "    query_id                                               text\n",
              "0          1  what similarity laws must be obeyed when const...\n",
              "1          2  what are the structural and aeroelastic proble...\n",
              "2          4  what problems of heat conduction in composite ...\n",
              "3          8  can a criterion be developed to show empirical...\n",
              "4          9  what chemical kinetic system is applicable to ...\n",
              "..       ...                                                ...\n",
              "220      353  papers applicable to this problem (calculation...\n",
              "221      355  has anyone investigated the shear buckling of ...\n",
              "222      356  papers on shear buckling of unstiffened rectan...\n",
              "223      360  in practice, how close to reality are the assu...\n",
              "224      365  what design factors can be used to control lif...\n",
              "\n",
              "[225 rows x 2 columns]"
            ]
          },
          "execution_count": 38,
          "metadata": {},
          "output_type": "execute_result"
        }
      ],
      "source": [
        "import pandas as pd\n",
        "pd.DataFrame(dataset.queries_iter())"
      ]
    },
    {
      "cell_type": "code",
      "execution_count": 103,
      "metadata": {
        "colab": {
          "base_uri": "https://localhost:8080/"
        },
        "id": "4_XrVDL30cCz",
        "outputId": "3c26620a-c8a7-4643-8034-e9ab688c4665"
      },
      "outputs": [
        {
          "data": {
            "text/plain": [
              "('query_id', 'text')"
            ]
          },
          "execution_count": 103,
          "metadata": {},
          "output_type": "execute_result"
        }
      ],
      "source": [
        "dataset.queries_cls()._fields"
      ]
    },
    {
      "cell_type": "markdown",
      "metadata": {
        "id": "WrQnCcFuI0Bm"
      },
      "source": [
        "# RELEVANCIA"
      ]
    },
    {
      "cell_type": "code",
      "execution_count": 126,
      "metadata": {},
      "outputs": [],
      "source": [
        "def get_documents(query_id):\n",
        "    temp_documents = []\n",
        "    for doc in documents:\n",
        "        if str(query_id) != doc['query_id']:\n",
        "            continue\n",
        "        query_results = doc['result']['queryResults']\n",
        "        for result in query_results:\n",
        "            temp_documents.append(result)\n",
        "    return temp_documents\n"
      ]
    },
    {
      "cell_type": "code",
      "execution_count": 105,
      "metadata": {},
      "outputs": [],
      "source": [
        "def get_qrels(query_id):\n",
        "    temp_qrels = []\n",
        "    for qrel in dataset.qrels_iter():\n",
        "        if qrel.query_id == str(query_id): \n",
        "            temp_qrels.append(qrel)\n",
        "\n",
        "    return temp_qrels\n",
        "    "
      ]
    },
    {
      "cell_type": "code",
      "execution_count": 106,
      "metadata": {},
      "outputs": [],
      "source": [
        "def get_relevance(doc_id, qrels):\n",
        "    for qrel in qrels:\n",
        "        if (qrel.doc_id == str(doc_id)):\n",
        "            return qrel.relevance\n",
        "    return 0"
      ]
    },
    {
      "cell_type": "code",
      "execution_count": 107,
      "metadata": {},
      "outputs": [],
      "source": [
        "class DocResult:\n",
        "    def __init__(self, query_id, document_id, relevance, seq):\n",
        "        self.query_id = query_id\n",
        "        self.document_id = document_id\n",
        "        self.relevance = relevance\n",
        "        self.seq = seq\n"
      ]
    },
    {
      "cell_type": "code",
      "execution_count": 135,
      "metadata": {},
      "outputs": [],
      "source": [
        "def get_query_result_docs(query_id, query_documents):\n",
        "  \n",
        "  temp_docs = []\n",
        "  qrels = get_qrels(query_id)\n",
        "\n",
        "  seq = 0\n",
        "  for doc in query_documents:\n",
        "    document_id = doc['document']['id']\n",
        "    relevance = get_relevance(document_id, qrels)\n",
        "    seq += 1\n",
        "    temp_docs.append(DocResult(query_id, document_id, relevance, seq))\n",
        "  \n",
        "  return temp_docs\n",
        "\n",
        "  \n"
      ]
    },
    {
      "cell_type": "code",
      "execution_count": null,
      "metadata": {},
      "outputs": [],
      "source": [
        "get_qrels(1)\n"
      ]
    },
    {
      "cell_type": "code",
      "execution_count": 140,
      "metadata": {
        "id": "O5QirfjZd3N0"
      },
      "outputs": [
        {
          "name": "stdout",
          "output_type": "stream",
          "text": [
            "486   -1\n",
            "1268   0\n",
            "13   4\n",
            "51   3\n",
            "792   0\n",
            "1144   0\n",
            "12   3\n",
            "686   0\n",
            "156   0\n",
            "685   0\n",
            "184   2\n",
            "114   0\n",
            "252   0\n",
            "25   0\n",
            "746   0\n",
            "329   0\n",
            "315   0\n",
            "100   0\n",
            "193   0\n",
            "1169   0\n",
            "878   0\n",
            "82   0\n",
            "435   0\n",
            "332   0\n",
            "665   0\n",
            "56   3\n",
            "57   2\n",
            "747   0\n",
            "253   0\n",
            "540   0\n",
            "52   4\n",
            "781   0\n",
            "423   0\n",
            "202   0\n",
            "78   0\n",
            "141   0\n",
            "1168   0\n",
            "1167   0\n",
            "69   0\n",
            "1186   0\n",
            "232   0\n",
            "349   0\n",
            "606   0\n",
            "280   0\n",
            "429   0\n",
            "874   0\n",
            "1178   0\n",
            "154   0\n",
            "158   0\n",
            "914   0\n",
            "658   0\n",
            "211   0\n",
            "216   0\n",
            "573   0\n",
            "663   0\n",
            "404   0\n",
            "875   2\n",
            "370   0\n",
            "1191   0\n",
            "643   0\n",
            "195   4\n",
            "1074   0\n",
            "798   0\n",
            "29   2\n",
            "244   0\n",
            "1155   0\n",
            "1380   0\n",
            "1166   0\n",
            "1165   0\n",
            "884   0\n",
            "721   0\n",
            "316   0\n",
            "213   0\n",
            "262   0\n",
            "755   0\n",
            "172   0\n",
            "209   0\n",
            "700   0\n",
            "378   2\n",
            "309   0\n",
            "876   3\n",
            "214   0\n",
            "603   0\n",
            "197   0\n",
            "1338   0\n",
            "1111   0\n",
            "577   0\n",
            "180   0\n",
            "140   0\n",
            "494   0\n",
            "300   0\n",
            "89   0\n",
            "726   0\n",
            "373   0\n",
            "283   0\n",
            "572   0\n",
            "124   0\n",
            "526   0\n",
            "1334   0\n",
            "1254   0\n",
            "1361   0\n",
            "1298   0\n",
            "584   0\n",
            "1066   0\n",
            "817   0\n",
            "1332   0\n",
            "456   0\n",
            "960   0\n",
            "541   0\n",
            "464   0\n",
            "1225   0\n",
            "999   0\n",
            "102   3\n",
            "946   0\n",
            "513   0\n",
            "824   0\n",
            "431   0\n",
            "634   0\n",
            "311   0\n",
            "415   0\n",
            "1328   0\n",
            "1163   0\n",
            "1197   0\n",
            "47   0\n",
            "1042   0\n",
            "883   0\n",
            "453   0\n",
            "497   3\n",
            "1300   0\n",
            "1089   0\n",
            "908   0\n",
            "374   0\n",
            "364   0\n",
            "420   0\n",
            "108   0\n",
            "285   0\n",
            "759   0\n",
            "880   3\n",
            "624   0\n",
            "67   0\n",
            "58   0\n",
            "352   0\n",
            "36   0\n",
            "204   0\n",
            "986   0\n",
            "169   0\n",
            "945   0\n",
            "441   0\n",
            "302   0\n",
            "629   0\n",
            "430   0\n",
            "24   0\n",
            "1362   0\n",
            "1072   0\n",
            "509   0\n",
            "859   2\n",
            "860   0\n",
            "66   3\n",
            "1294   0\n",
            "888   0\n",
            "407   0\n",
            "260   0\n",
            "662   0\n",
            "789   0\n",
            "33   0\n",
            "297   0\n",
            "96   0\n",
            "490   0\n",
            "1311   0\n",
            "1336   0\n",
            "218   0\n",
            "397   0\n",
            "1310   0\n",
            "1236   0\n",
            "104   0\n",
            "123   0\n",
            "28   0\n",
            "1260   0\n",
            "84   0\n",
            "304   0\n",
            "657   0\n",
            "243   0\n",
            "27   0\n",
            "591   0\n",
            "719   0\n",
            "1153   0\n",
            "1290   0\n",
            "1001   0\n",
            "947   0\n",
            "645   0\n",
            "1378   0\n",
            "536   0\n",
            "751   0\n",
            "1000   0\n",
            "879   3\n",
            "1350   0\n",
            "1113   0\n",
            "388   0\n",
            "1305   0\n",
            "1180   0\n",
            "1218   0\n",
            "543   0\n",
            "272   0\n",
            "314   0\n",
            "808   0\n",
            "909   0\n",
            "245   0\n",
            "345   0\n",
            "804   0\n",
            "1051   0\n",
            "724   0\n",
            "416   0\n",
            "1246   0\n",
            "911   0\n",
            "1064   0\n",
            "725   0\n",
            "917   0\n",
            "948   0\n",
            "220   0\n",
            "76   0\n",
            "925   0\n",
            "251   0\n",
            "882   0\n",
            "1170   0\n",
            "75   0\n",
            "810   0\n",
            "836   0\n",
            "101   0\n",
            "413   0\n",
            "152   0\n",
            "215   0\n",
            "34   0\n",
            "205   0\n",
            "406   0\n",
            "223   0\n",
            "201   0\n",
            "401   0\n",
            "79   0\n",
            "236   0\n",
            "230   0\n",
            "229   0\n",
            "125   0\n",
            "142   4\n",
            "189   0\n",
            "288   0\n",
            "122   0\n",
            "391   0\n",
            "170   0\n",
            "353   0\n",
            "360   0\n",
            "198   0\n",
            "212   0\n",
            "679   0\n",
            "240   0\n",
            "222   0\n",
            "217   0\n",
            "670   0\n",
            "699   0\n",
            "904   0\n",
            "795   0\n",
            "683   0\n",
            "239   0\n",
            "666   0\n",
            "19   0\n",
            "238   0\n",
            "592   0\n",
            "248   0\n",
            "671   0\n",
            "631   0\n",
            "442   0\n",
            "468   0\n",
            "32   0\n",
            "103   0\n",
            "380   0\n"
          ]
        }
      ],
      "source": [
        "# get_documents(query_id=1)\n",
        "result_docs = get_query_result_docs(query_id=1, query_documents=get_documents(query_id=1))\n",
        "\n",
        "for x in result_docs:\n",
        "    print(x.document_id, \" \", x.relevance)\n"
      ]
    }
  ],
  "metadata": {
    "colab": {
      "collapsed_sections": [],
      "name": "Avaliação do sistema.ipynb",
      "provenance": [],
      "toc_visible": true
    },
    "kernelspec": {
      "display_name": "Python 3.9.13 64-bit",
      "language": "python",
      "name": "python3"
    },
    "language_info": {
      "codemirror_mode": {
        "name": "ipython",
        "version": 3
      },
      "file_extension": ".py",
      "mimetype": "text/x-python",
      "name": "python",
      "nbconvert_exporter": "python",
      "pygments_lexer": "ipython3",
      "version": "3.9.13"
    },
    "vscode": {
      "interpreter": {
        "hash": "a665b5d41d17b532ea9890333293a1b812fa0b73c9c25c950b3cedf1bebd0438"
      }
    }
  },
  "nbformat": 4,
  "nbformat_minor": 0
}

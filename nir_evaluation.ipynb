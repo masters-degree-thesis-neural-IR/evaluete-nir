{
  "cells": [
    {
      "cell_type": "markdown",
      "metadata": {
        "id": "rF0T3YURGgQe"
      },
      "source": [
        "## DEPENDENCE INSTALL\n",
        "\n",
        "- Dependencies install for evaluation of metrics\n",
        "- Instalação das depedendencias necessárias para executar todos as avaliações"
      ]
    },
    {
      "cell_type": "code",
      "execution_count": 5,
      "metadata": {
        "colab": {
          "base_uri": "https://localhost:8080/"
        },
        "id": "CwcXLbGWhnbV",
        "outputId": "b9106385-df56-402d-e0d9-22c46f7e592f"
      },
      "outputs": [
        {
          "name": "stdout",
          "output_type": "stream",
          "text": [
            "\u001b[33mDEPRECATION: Configuring installation scheme with distutils config files is deprecated and will no longer work in the near future. If you are using a Homebrew or Linuxbrew Python, please see discussion at https://github.com/Homebrew/homebrew-core/issues/76621\u001b[0m\u001b[33m\n",
            "\u001b[0mCollecting scikit-learn\n",
            "  Downloading scikit_learn-1.1.2-cp39-cp39-macosx_12_0_arm64.whl (7.7 MB)\n",
            "\u001b[2K     \u001b[90m━━━━━━━━━━━━━━━━━━━━━━━━━━━━━━━━━━━━━━━━\u001b[0m \u001b[32m7.7/7.7 MB\u001b[0m \u001b[31m12.0 MB/s\u001b[0m eta \u001b[36m0:00:00\u001b[0m00:01\u001b[0m00:01\u001b[0m\n",
            "\u001b[?25hCollecting threadpoolctl>=2.0.0\n",
            "  Using cached threadpoolctl-3.1.0-py3-none-any.whl (14 kB)\n",
            "Collecting scipy>=1.3.2\n",
            "  Downloading scipy-1.9.1-cp39-cp39-macosx_12_0_arm64.whl (29.9 MB)\n",
            "\u001b[2K     \u001b[90m━━━━━━━━━━━━━━━━━━━━━━━━━━━━━━━━━━━━━━━━\u001b[0m \u001b[32m29.9/29.9 MB\u001b[0m \u001b[31m17.9 MB/s\u001b[0m eta \u001b[36m0:00:00\u001b[0m00:01\u001b[0m00:01\u001b[0m\n",
            "\u001b[?25hRequirement already satisfied: numpy>=1.17.3 in /opt/homebrew/lib/python3.9/site-packages (from scikit-learn) (1.23.2)\n",
            "Collecting joblib>=1.0.0\n",
            "  Using cached joblib-1.1.0-py2.py3-none-any.whl (306 kB)\n",
            "Installing collected packages: threadpoolctl, scipy, joblib, scikit-learn\n",
            "\u001b[33m  DEPRECATION: Configuring installation scheme with distutils config files is deprecated and will no longer work in the near future. If you are using a Homebrew or Linuxbrew Python, please see discussion at https://github.com/Homebrew/homebrew-core/issues/76621\u001b[0m\u001b[33m\n",
            "\u001b[0m\u001b[33m  DEPRECATION: Configuring installation scheme with distutils config files is deprecated and will no longer work in the near future. If you are using a Homebrew or Linuxbrew Python, please see discussion at https://github.com/Homebrew/homebrew-core/issues/76621\u001b[0m\u001b[33m\n",
            "\u001b[0m\u001b[33m  DEPRECATION: Configuring installation scheme with distutils config files is deprecated and will no longer work in the near future. If you are using a Homebrew or Linuxbrew Python, please see discussion at https://github.com/Homebrew/homebrew-core/issues/76621\u001b[0m\u001b[33m\n",
            "\u001b[0m\u001b[33m  DEPRECATION: Configuring installation scheme with distutils config files is deprecated and will no longer work in the near future. If you are using a Homebrew or Linuxbrew Python, please see discussion at https://github.com/Homebrew/homebrew-core/issues/76621\u001b[0m\u001b[33m\n",
            "\u001b[0m\u001b[33mDEPRECATION: Configuring installation scheme with distutils config files is deprecated and will no longer work in the near future. If you are using a Homebrew or Linuxbrew Python, please see discussion at https://github.com/Homebrew/homebrew-core/issues/76621\u001b[0m\u001b[33m\n",
            "\u001b[0mSuccessfully installed joblib-1.1.0 scikit-learn-1.1.2 scipy-1.9.1 threadpoolctl-3.1.0\n",
            "Note: you may need to restart the kernel to use updated packages.\n",
            "\u001b[33mDEPRECATION: Configuring installation scheme with distutils config files is deprecated and will no longer work in the near future. If you are using a Homebrew or Linuxbrew Python, please see discussion at https://github.com/Homebrew/homebrew-core/issues/76621\u001b[0m\u001b[33m\n",
            "\u001b[0mCollecting nltk\n",
            "  Using cached nltk-3.7-py3-none-any.whl (1.5 MB)\n",
            "Collecting regex>=2021.8.3\n",
            "  Downloading regex-2022.8.17-cp39-cp39-macosx_11_0_arm64.whl (282 kB)\n",
            "\u001b[2K     \u001b[90m━━━━━━━━━━━━━━━━━━━━━━━━━━━━━━━━━━━━━━━\u001b[0m \u001b[32m283.0/283.0 kB\u001b[0m \u001b[31m3.8 MB/s\u001b[0m eta \u001b[36m0:00:00\u001b[0ma \u001b[36m0:00:01\u001b[0m\n",
            "\u001b[?25hRequirement already satisfied: tqdm in /opt/homebrew/lib/python3.9/site-packages (from nltk) (4.64.1)\n",
            "Requirement already satisfied: joblib in /opt/homebrew/lib/python3.9/site-packages (from nltk) (1.1.0)\n",
            "Collecting click\n",
            "  Using cached click-8.1.3-py3-none-any.whl (96 kB)\n",
            "Installing collected packages: regex, click, nltk\n",
            "\u001b[33m  DEPRECATION: Configuring installation scheme with distutils config files is deprecated and will no longer work in the near future. If you are using a Homebrew or Linuxbrew Python, please see discussion at https://github.com/Homebrew/homebrew-core/issues/76621\u001b[0m\u001b[33m\n",
            "\u001b[0m\u001b[33m  DEPRECATION: Configuring installation scheme with distutils config files is deprecated and will no longer work in the near future. If you are using a Homebrew or Linuxbrew Python, please see discussion at https://github.com/Homebrew/homebrew-core/issues/76621\u001b[0m\u001b[33m\n",
            "\u001b[0m\u001b[33m  DEPRECATION: Configuring installation scheme with distutils config files is deprecated and will no longer work in the near future. If you are using a Homebrew or Linuxbrew Python, please see discussion at https://github.com/Homebrew/homebrew-core/issues/76621\u001b[0m\u001b[33m\n",
            "\u001b[0m\u001b[33mDEPRECATION: Configuring installation scheme with distutils config files is deprecated and will no longer work in the near future. If you are using a Homebrew or Linuxbrew Python, please see discussion at https://github.com/Homebrew/homebrew-core/issues/76621\u001b[0m\u001b[33m\n",
            "\u001b[0mSuccessfully installed click-8.1.3 nltk-3.7 regex-2022.8.17\n",
            "Note: you may need to restart the kernel to use updated packages.\n",
            "\u001b[33mDEPRECATION: Configuring installation scheme with distutils config files is deprecated and will no longer work in the near future. If you are using a Homebrew or Linuxbrew Python, please see discussion at https://github.com/Homebrew/homebrew-core/issues/76621\u001b[0m\u001b[33m\n",
            "\u001b[0mRequirement already satisfied: requests in /opt/homebrew/lib/python3.9/site-packages (2.28.1)\n",
            "Requirement already satisfied: charset-normalizer<3,>=2 in /opt/homebrew/lib/python3.9/site-packages (from requests) (2.1.1)\n",
            "Requirement already satisfied: certifi>=2017.4.17 in /opt/homebrew/lib/python3.9/site-packages (from requests) (2022.6.15)\n",
            "Requirement already satisfied: urllib3<1.27,>=1.21.1 in /opt/homebrew/lib/python3.9/site-packages (from requests) (1.26.12)\n",
            "Requirement already satisfied: idna<4,>=2.5 in /opt/homebrew/lib/python3.9/site-packages (from requests) (3.3)\n",
            "\u001b[33mDEPRECATION: Configuring installation scheme with distutils config files is deprecated and will no longer work in the near future. If you are using a Homebrew or Linuxbrew Python, please see discussion at https://github.com/Homebrew/homebrew-core/issues/76621\u001b[0m\u001b[33m\n",
            "\u001b[0mNote: you may need to restart the kernel to use updated packages.\n",
            "\u001b[33mDEPRECATION: Configuring installation scheme with distutils config files is deprecated and will no longer work in the near future. If you are using a Homebrew or Linuxbrew Python, please see discussion at https://github.com/Homebrew/homebrew-core/issues/76621\u001b[0m\u001b[33m\n",
            "\u001b[0mCollecting pandas\n",
            "  Downloading pandas-1.4.4-cp39-cp39-macosx_11_0_arm64.whl (10.5 MB)\n",
            "\u001b[2K     \u001b[90m━━━━━━━━━━━━━━━━━━━━━━━━━━━━━━━━━━━━━━━━\u001b[0m \u001b[32m10.5/10.5 MB\u001b[0m \u001b[31m11.4 MB/s\u001b[0m eta \u001b[36m0:00:00\u001b[0m00:01\u001b[0m00:01\u001b[0m\n",
            "\u001b[?25hCollecting pytz>=2020.1\n",
            "  Using cached pytz-2022.2.1-py2.py3-none-any.whl (500 kB)\n",
            "Requirement already satisfied: python-dateutil>=2.8.1 in /opt/homebrew/lib/python3.9/site-packages (from pandas) (2.8.2)\n",
            "Requirement already satisfied: numpy>=1.20.0 in /opt/homebrew/lib/python3.9/site-packages (from pandas) (1.23.2)\n",
            "Requirement already satisfied: six>=1.5 in /opt/homebrew/lib/python3.9/site-packages (from python-dateutil>=2.8.1->pandas) (1.16.0)\n",
            "Installing collected packages: pytz, pandas\n",
            "\u001b[33m  DEPRECATION: Configuring installation scheme with distutils config files is deprecated and will no longer work in the near future. If you are using a Homebrew or Linuxbrew Python, please see discussion at https://github.com/Homebrew/homebrew-core/issues/76621\u001b[0m\u001b[33m\n",
            "\u001b[0m\u001b[33m  DEPRECATION: Configuring installation scheme with distutils config files is deprecated and will no longer work in the near future. If you are using a Homebrew or Linuxbrew Python, please see discussion at https://github.com/Homebrew/homebrew-core/issues/76621\u001b[0m\u001b[33m\n",
            "\u001b[0m\u001b[33mDEPRECATION: Configuring installation scheme with distutils config files is deprecated and will no longer work in the near future. If you are using a Homebrew or Linuxbrew Python, please see discussion at https://github.com/Homebrew/homebrew-core/issues/76621\u001b[0m\u001b[33m\n",
            "\u001b[0mSuccessfully installed pandas-1.4.4 pytz-2022.2.1\n",
            "Note: you may need to restart the kernel to use updated packages.\n"
          ]
        }
      ],
      "source": [
        "%pip install numpy cython\n",
        "%pip install wheel\n",
        "%pip install ir_datasets\n",
        "%pip install scikit-learn\n",
        "%pip install nltk\n",
        "%pip install requests\n",
        "%pip install pandas"
      ]
    },
    {
      "cell_type": "code",
      "execution_count": 1,
      "metadata": {
        "id": "eYX6dDnjhrfv"
      },
      "outputs": [],
      "source": [
        "import ir_datasets\n",
        "import numpy as np\n",
        "import requests\n",
        "import json\n",
        "import nltk\n",
        "from nltk.tokenize import word_tokenize\n",
        "from sklearn.metrics import dcg_score\n",
        "from sklearn.metrics import ndcg_score\n"
      ]
    },
    {
      "cell_type": "code",
      "execution_count": 2,
      "metadata": {},
      "outputs": [],
      "source": [
        "dataset = ir_datasets.load('msmarco-passage/train')"
      ]
    },
    {
      "cell_type": "code",
      "execution_count": 3,
      "metadata": {
        "colab": {
          "base_uri": "https://localhost:8080/"
        },
        "id": "SYex88DXh411",
        "outputId": "3f41420f-6847-4a26-a3a4-ccfe43cacf38"
      },
      "outputs": [
        {
          "data": {
            "text/plain": [
              "8841823"
            ]
          },
          "execution_count": 3,
          "metadata": {},
          "output_type": "execute_result"
        }
      ],
      "source": [
        "dataset.docs_count()"
      ]
    },
    {
      "cell_type": "markdown",
      "metadata": {
        "id": "wV6TTTrNHGa8"
      },
      "source": [
        "## EVALUETION FUNCTIONS\n",
        "\n",
        "- \n",
        "- Implementação de funções em algoritimos para executar as avaliações\n"
      ]
    },
    {
      "cell_type": "markdown",
      "metadata": {
        "id": "bnfhbcrnHt2M"
      },
      "source": [
        "### Calculo do DCG@k"
      ]
    },
    {
      "cell_type": "code",
      "execution_count": null,
      "metadata": {
        "id": "ggM7xnljHyT8"
      },
      "outputs": [],
      "source": [
        "def calc_dcg_k(relevance):\n",
        "  result = 0\n",
        "  for i in range(len(relevance)):\n",
        "    log = np.log2(1 + (i + 1))\n",
        "    result += (relevance[i] / log)\n",
        "  return result"
      ]
    },
    {
      "cell_type": "markdown",
      "metadata": {
        "id": "ti5Yjkr-H23c"
      },
      "source": [
        "### Calculo NDCG@K"
      ]
    },
    {
      "cell_type": "code",
      "execution_count": null,
      "metadata": {
        "id": "lJ6-CObRIAPn"
      },
      "outputs": [],
      "source": [
        "def calc_ndcg_k(relevance, true_relevance):\n",
        "  return calc_dcg_k(relevance) / calc_dcg_k(true_relevance)"
      ]
    },
    {
      "cell_type": "markdown",
      "metadata": {
        "id": "LB8hj2oSIDst"
      },
      "source": [
        "#### Exemplos"
      ]
    },
    {
      "cell_type": "code",
      "execution_count": null,
      "metadata": {
        "id": "zLhQZqWvIG9t"
      },
      "outputs": [],
      "source": [
        "relevance = [3,3,0]\n",
        "true_relevance = [4,3,3]"
      ]
    },
    {
      "cell_type": "code",
      "execution_count": null,
      "metadata": {
        "colab": {
          "base_uri": "https://localhost:8080/"
        },
        "id": "B0X5ciEuIK8U",
        "outputId": "f0eb337f-5abc-43d1-acb8-77c38ccff533"
      },
      "outputs": [],
      "source": [
        "calc_ndcg_k(relevance, true_relevance)"
      ]
    },
    {
      "cell_type": "code",
      "execution_count": null,
      "metadata": {
        "colab": {
          "base_uri": "https://localhost:8080/"
        },
        "id": "7_9ynHQxIOxM",
        "outputId": "b22f333b-bb5a-47ec-ff82-8c2ced573d71"
      },
      "outputs": [],
      "source": [
        "ndcg_score(np.asarray([true_relevance]), np.asarray([relevance]))"
      ]
    },
    {
      "cell_type": "markdown",
      "metadata": {
        "id": "kfFNdi8_pmmJ"
      },
      "source": [
        "## INDEXAR DOCUMENTOS"
      ]
    },
    {
      "cell_type": "code",
      "execution_count": null,
      "metadata": {
        "id": "v8UD_9HMn9rf"
      },
      "outputs": [],
      "source": [
        "url = 'https://bpmxju353h.execute-api.us-east-1.amazonaws.com/dev/neuralir'"
      ]
    },
    {
      "cell_type": "code",
      "execution_count": null,
      "metadata": {
        "colab": {
          "base_uri": "https://localhost:8080/"
        },
        "id": "Q_dH94p6UFWN",
        "outputId": "10aa996c-5363-4b26-e51f-bf3fd642eb07"
      },
      "outputs": [],
      "source": [
        "nltk.download(\"punkt\")"
      ]
    },
    {
      "cell_type": "code",
      "execution_count": null,
      "metadata": {
        "colab": {
          "base_uri": "https://localhost:8080/"
        },
        "id": "fAhT_EgUh78j",
        "outputId": "d3e21ce4-7e29-4e45-e907-73d3c7d45a8e"
      },
      "outputs": [],
      "source": [
        "count = 0\n",
        "\n",
        "for doc in dataset.docs_iter():\n",
        "\n",
        "  sent = list(word_tokenize(doc.text))\n",
        "  mystr = ' '.join(map(str,sent))\n",
        "\n",
        "  myobj = {\n",
        "            'id': doc.doc_id,\n",
        "            'title': doc.title.strip(),\n",
        "            'body': mystr.strip()\n",
        "          }\n",
        "  # x = requests.post(url, json = myobj)\n",
        "  count += 1\n",
        "\n",
        "print(\"Indexed \", count)"
      ]
    },
    {
      "cell_type": "code",
      "execution_count": null,
      "metadata": {
        "colab": {
          "base_uri": "https://localhost:8080/"
        },
        "id": "8TgohiUAiGO5",
        "outputId": "2924ca3c-59e9-4eb2-e81c-1986533252ec"
      },
      "outputs": [],
      "source": [
        "dataset.docs_cls()"
      ]
    },
    {
      "cell_type": "markdown",
      "metadata": {
        "id": "gWWojMSICiB2"
      },
      "source": [
        "### Calculo do DCG@k"
      ]
    },
    {
      "cell_type": "markdown",
      "metadata": {
        "id": "Y4danPLyuz7P"
      },
      "source": [
        "## EFETUAR BUSCAS"
      ]
    },
    {
      "cell_type": "code",
      "execution_count": null,
      "metadata": {
        "id": "7O2gEundCi0K"
      },
      "outputs": [],
      "source": [
        "documents = []"
      ]
    },
    {
      "cell_type": "code",
      "execution_count": null,
      "metadata": {
        "id": "TIM-foHku6dj"
      },
      "outputs": [],
      "source": [
        "url = \"https://bpmxju353h.execute-api.us-east-1.amazonaws.com/dev/neuralir?query=\""
      ]
    },
    {
      "cell_type": "code",
      "execution_count": null,
      "metadata": {
        "colab": {
          "base_uri": "https://localhost:8080/",
          "height": 520
        },
        "id": "bd-6uSs8_mSL",
        "outputId": "e4ffe7d7-a3f3-4ac6-ce2b-836a2b3d5275"
      },
      "outputs": [],
      "source": [
        "for query in dataset.queries_iter():\n",
        "  qry = url + query.text\n",
        "  x = requests.get(qry)\n",
        "\n",
        "  if x.status_code == 201:\n",
        "    obj = json.loads(x.text)\n",
        "    documents.append({\n",
        "        \"query_id\":query.query_id,\n",
        "        \"result\":obj\n",
        "    })\n",
        "\n",
        "  print(\"Query ID:\", query.query_id, \"Status code:\", x.status_code)"
      ]
    },
    {
      "cell_type": "code",
      "execution_count": null,
      "metadata": {
        "colab": {
          "base_uri": "https://localhost:8080/"
        },
        "id": "kwKiZ5TrDJRj",
        "outputId": "f68d83db-4eec-4389-f0de-3f3da1c030ca"
      },
      "outputs": [],
      "source": [
        "for doc in documents[0:1]:\n",
        "  print(doc) "
      ]
    },
    {
      "cell_type": "code",
      "execution_count": null,
      "metadata": {
        "colab": {
          "base_uri": "https://localhost:8080/",
          "height": 332
        },
        "id": "nFsImZY1PNGa",
        "outputId": "4ad75e6a-40c3-453d-99bd-46bd05b64168"
      },
      "outputs": [],
      "source": [
        "import pandas as pd\n",
        "pd.DataFrame(dataset.queries_iter())"
      ]
    },
    {
      "cell_type": "code",
      "execution_count": null,
      "metadata": {
        "colab": {
          "base_uri": "https://localhost:8080/"
        },
        "id": "4_XrVDL30cCz",
        "outputId": "3c26620a-c8a7-4643-8034-e9ab688c4665"
      },
      "outputs": [],
      "source": [
        "dataset.queries_cls()._fields"
      ]
    },
    {
      "cell_type": "markdown",
      "metadata": {
        "id": "WrQnCcFuI0Bm"
      },
      "source": [
        "# RELEVANCIA"
      ]
    },
    {
      "cell_type": "code",
      "execution_count": null,
      "metadata": {
        "id": "7Dr6sb8vdSEY"
      },
      "outputs": [],
      "source": [
        "def temRegistro(query_id, document_id, relevance):\n",
        "  for doc in documents:\n",
        "    if str(query_id) != doc['query_id']:\n",
        "      continue\n",
        "    docx = doc['result']['queryResults']\n",
        "    i = 0\n",
        "    for dc in docx:\n",
        "      i += 1\n",
        "      if str(document_id) != dc['document']['id']:\n",
        "        continue\n",
        "      if str(document_id) == dc['document']['id']:\n",
        "        return {\n",
        "            \"query_id\":query_id,\n",
        "            \"document_id\":document_id,\n",
        "            \"relevance\":relevance,\n",
        "            \"seq\":i\n",
        "        }\n"
      ]
    },
    {
      "cell_type": "code",
      "execution_count": null,
      "metadata": {
        "id": "O5QirfjZd3N0"
      },
      "outputs": [],
      "source": [
        "temRegistro(1,2,2)"
      ]
    },
    {
      "cell_type": "code",
      "execution_count": null,
      "metadata": {
        "colab": {
          "base_uri": "https://localhost:8080/",
          "height": 105
        },
        "id": "xz-tsa_WuvnL",
        "outputId": "8be87df7-0d70-4da8-f86b-65bc8a6185fb"
      },
      "outputs": [],
      "source": [
        "docstore = dataset.docs_store()\n",
        "docstore.get('486').text"
      ]
    },
    {
      "cell_type": "code",
      "execution_count": null,
      "metadata": {
        "colab": {
          "base_uri": "https://localhost:8080/"
        },
        "id": "Xz8IiNKzI2I4",
        "outputId": "ba7c30e8-8ada-42fa-f23d-8ceb29d26cf9"
      },
      "outputs": [],
      "source": [
        "df = pd.DataFrame(dataset.qrels_iter())\n",
        "df = df.query(\"query_id == '1'\")\n",
        "\n",
        "for it in df.values.tolist():\n",
        "  print(temRegistro(it[0],it[1],it[2]))"
      ]
    }
  ],
  "metadata": {
    "colab": {
      "collapsed_sections": [],
      "name": "Avaliação do sistema.ipynb",
      "provenance": [],
      "toc_visible": true
    },
    "kernelspec": {
      "display_name": "Python 3.9.13 64-bit",
      "language": "python",
      "name": "python3"
    },
    "language_info": {
      "codemirror_mode": {
        "name": "ipython",
        "version": 3
      },
      "file_extension": ".py",
      "mimetype": "text/x-python",
      "name": "python",
      "nbconvert_exporter": "python",
      "pygments_lexer": "ipython3",
      "version": "3.9.13"
    },
    "vscode": {
      "interpreter": {
        "hash": "a665b5d41d17b532ea9890333293a1b812fa0b73c9c25c950b3cedf1bebd0438"
      }
    }
  },
  "nbformat": 4,
  "nbformat_minor": 0
}

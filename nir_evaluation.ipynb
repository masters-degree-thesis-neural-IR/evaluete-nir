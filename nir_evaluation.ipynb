{
  "cells": [
    {
      "cell_type": "markdown",
      "metadata": {
        "id": "rF0T3YURGgQe"
      },
      "source": [
        "## DEPENDENCE INSTALL\n",
        "\n",
        "- Dependencies install for evaluation of metrics\n",
        "- Instalação das depedendencias necessárias para executar todos as avaliações"
      ]
    },
    {
      "cell_type": "code",
      "execution_count": 148,
      "metadata": {
        "colab": {
          "base_uri": "https://localhost:8080/"
        },
        "id": "CwcXLbGWhnbV",
        "outputId": "b9106385-df56-402d-e0d9-22c46f7e592f"
      },
      "outputs": [
        {
          "name": "stdout",
          "output_type": "stream",
          "text": [
            "\u001b[33mDEPRECATION: Configuring installation scheme with distutils config files is deprecated and will no longer work in the near future. If you are using a Homebrew or Linuxbrew Python, please see discussion at https://github.com/Homebrew/homebrew-core/issues/76621\u001b[0m\u001b[33m\n",
            "\u001b[0mRequirement already satisfied: numpy in /opt/homebrew/lib/python3.9/site-packages (1.23.2)\n",
            "Requirement already satisfied: cython in /opt/homebrew/lib/python3.9/site-packages (0.29.32)\n",
            "\u001b[33mDEPRECATION: Configuring installation scheme with distutils config files is deprecated and will no longer work in the near future. If you are using a Homebrew or Linuxbrew Python, please see discussion at https://github.com/Homebrew/homebrew-core/issues/76621\u001b[0m\u001b[33m\n",
            "\u001b[0mNote: you may need to restart the kernel to use updated packages.\n",
            "\u001b[33mDEPRECATION: Configuring installation scheme with distutils config files is deprecated and will no longer work in the near future. If you are using a Homebrew or Linuxbrew Python, please see discussion at https://github.com/Homebrew/homebrew-core/issues/76621\u001b[0m\u001b[33m\n",
            "\u001b[0mRequirement already satisfied: wheel in /opt/homebrew/lib/python3.9/site-packages (0.37.1)\n",
            "\u001b[33mDEPRECATION: Configuring installation scheme with distutils config files is deprecated and will no longer work in the near future. If you are using a Homebrew or Linuxbrew Python, please see discussion at https://github.com/Homebrew/homebrew-core/issues/76621\u001b[0m\u001b[33m\n",
            "\u001b[0mNote: you may need to restart the kernel to use updated packages.\n",
            "\u001b[33mDEPRECATION: Configuring installation scheme with distutils config files is deprecated and will no longer work in the near future. If you are using a Homebrew or Linuxbrew Python, please see discussion at https://github.com/Homebrew/homebrew-core/issues/76621\u001b[0m\u001b[33m\n",
            "\u001b[0mRequirement already satisfied: ir_datasets in /opt/homebrew/lib/python3.9/site-packages (0.5.3)\n",
            "Requirement already satisfied: pyautocorpus>=0.1.1 in /opt/homebrew/lib/python3.9/site-packages (from ir_datasets) (0.1.8)\n",
            "Requirement already satisfied: tqdm>=4.38.0 in /opt/homebrew/lib/python3.9/site-packages (from ir_datasets) (4.64.1)\n",
            "Requirement already satisfied: lz4>=3.1.1 in /opt/homebrew/lib/python3.9/site-packages (from ir_datasets) (4.0.2)\n",
            "Requirement already satisfied: numpy>=1.18.1 in /opt/homebrew/lib/python3.9/site-packages (from ir_datasets) (1.23.2)\n",
            "Requirement already satisfied: unlzw3>=0.2.1 in /opt/homebrew/lib/python3.9/site-packages (from ir_datasets) (0.2.1)\n",
            "Requirement already satisfied: ijson>=3.1.3 in /opt/homebrew/lib/python3.9/site-packages (from ir_datasets) (3.1.4)\n",
            "Requirement already satisfied: zlib-state>=0.1.3 in /opt/homebrew/lib/python3.9/site-packages (from ir_datasets) (0.1.5)\n",
            "Requirement already satisfied: warc3-wet>=0.2.3 in /opt/homebrew/lib/python3.9/site-packages (from ir_datasets) (0.2.3)\n",
            "Requirement already satisfied: warc3-wet-clueweb09>=0.2.5 in /opt/homebrew/lib/python3.9/site-packages (from ir_datasets) (0.2.5)\n",
            "Requirement already satisfied: requests>=2.22.0 in /opt/homebrew/lib/python3.9/site-packages (from ir_datasets) (2.28.1)\n",
            "Requirement already satisfied: trec-car-tools>=2.5.4 in /opt/homebrew/lib/python3.9/site-packages (from ir_datasets) (2.6)\n",
            "Requirement already satisfied: pyyaml>=5.3.1 in /opt/homebrew/lib/python3.9/site-packages (from ir_datasets) (6.0)\n",
            "Requirement already satisfied: beautifulsoup4>=4.4.1 in /opt/homebrew/lib/python3.9/site-packages (from ir_datasets) (4.11.1)\n",
            "Requirement already satisfied: lxml>=4.5.2 in /opt/homebrew/lib/python3.9/site-packages (from ir_datasets) (4.9.1)\n",
            "Requirement already satisfied: soupsieve>1.2 in /opt/homebrew/lib/python3.9/site-packages (from beautifulsoup4>=4.4.1->ir_datasets) (2.3.2.post1)\n",
            "Requirement already satisfied: certifi>=2017.4.17 in /opt/homebrew/lib/python3.9/site-packages (from requests>=2.22.0->ir_datasets) (2022.6.15)\n",
            "Requirement already satisfied: urllib3<1.27,>=1.21.1 in /opt/homebrew/lib/python3.9/site-packages (from requests>=2.22.0->ir_datasets) (1.26.12)\n",
            "Requirement already satisfied: idna<4,>=2.5 in /opt/homebrew/lib/python3.9/site-packages (from requests>=2.22.0->ir_datasets) (3.3)\n",
            "Requirement already satisfied: charset-normalizer<3,>=2 in /opt/homebrew/lib/python3.9/site-packages (from requests>=2.22.0->ir_datasets) (2.1.1)\n",
            "Requirement already satisfied: cbor>=1.0.0 in /opt/homebrew/lib/python3.9/site-packages (from trec-car-tools>=2.5.4->ir_datasets) (1.0.0)\n",
            "\u001b[33mDEPRECATION: Configuring installation scheme with distutils config files is deprecated and will no longer work in the near future. If you are using a Homebrew or Linuxbrew Python, please see discussion at https://github.com/Homebrew/homebrew-core/issues/76621\u001b[0m\u001b[33m\n",
            "\u001b[0mNote: you may need to restart the kernel to use updated packages.\n",
            "\u001b[33mDEPRECATION: Configuring installation scheme with distutils config files is deprecated and will no longer work in the near future. If you are using a Homebrew or Linuxbrew Python, please see discussion at https://github.com/Homebrew/homebrew-core/issues/76621\u001b[0m\u001b[33m\n",
            "\u001b[0mRequirement already satisfied: scikit-learn in /opt/homebrew/lib/python3.9/site-packages (1.1.2)\n",
            "Requirement already satisfied: numpy>=1.17.3 in /opt/homebrew/lib/python3.9/site-packages (from scikit-learn) (1.23.2)\n",
            "Requirement already satisfied: joblib>=1.0.0 in /opt/homebrew/lib/python3.9/site-packages (from scikit-learn) (1.1.0)\n",
            "Requirement already satisfied: threadpoolctl>=2.0.0 in /opt/homebrew/lib/python3.9/site-packages (from scikit-learn) (3.1.0)\n",
            "Requirement already satisfied: scipy>=1.3.2 in /opt/homebrew/lib/python3.9/site-packages (from scikit-learn) (1.9.1)\n",
            "\u001b[33mDEPRECATION: Configuring installation scheme with distutils config files is deprecated and will no longer work in the near future. If you are using a Homebrew or Linuxbrew Python, please see discussion at https://github.com/Homebrew/homebrew-core/issues/76621\u001b[0m\u001b[33m\n",
            "\u001b[0mNote: you may need to restart the kernel to use updated packages.\n",
            "\u001b[33mDEPRECATION: Configuring installation scheme with distutils config files is deprecated and will no longer work in the near future. If you are using a Homebrew or Linuxbrew Python, please see discussion at https://github.com/Homebrew/homebrew-core/issues/76621\u001b[0m\u001b[33m\n",
            "\u001b[0mRequirement already satisfied: nltk in /opt/homebrew/lib/python3.9/site-packages (3.7)\n",
            "Requirement already satisfied: regex>=2021.8.3 in /opt/homebrew/lib/python3.9/site-packages (from nltk) (2022.8.17)\n",
            "Requirement already satisfied: joblib in /opt/homebrew/lib/python3.9/site-packages (from nltk) (1.1.0)\n",
            "Requirement already satisfied: click in /opt/homebrew/lib/python3.9/site-packages (from nltk) (8.1.3)\n",
            "Requirement already satisfied: tqdm in /opt/homebrew/lib/python3.9/site-packages (from nltk) (4.64.1)\n",
            "\u001b[33mDEPRECATION: Configuring installation scheme with distutils config files is deprecated and will no longer work in the near future. If you are using a Homebrew or Linuxbrew Python, please see discussion at https://github.com/Homebrew/homebrew-core/issues/76621\u001b[0m\u001b[33m\n",
            "\u001b[0mNote: you may need to restart the kernel to use updated packages.\n",
            "\u001b[33mDEPRECATION: Configuring installation scheme with distutils config files is deprecated and will no longer work in the near future. If you are using a Homebrew or Linuxbrew Python, please see discussion at https://github.com/Homebrew/homebrew-core/issues/76621\u001b[0m\u001b[33m\n",
            "\u001b[0mRequirement already satisfied: requests in /opt/homebrew/lib/python3.9/site-packages (2.28.1)\n",
            "Requirement already satisfied: urllib3<1.27,>=1.21.1 in /opt/homebrew/lib/python3.9/site-packages (from requests) (1.26.12)\n",
            "Requirement already satisfied: certifi>=2017.4.17 in /opt/homebrew/lib/python3.9/site-packages (from requests) (2022.6.15)\n",
            "Requirement already satisfied: idna<4,>=2.5 in /opt/homebrew/lib/python3.9/site-packages (from requests) (3.3)\n",
            "Requirement already satisfied: charset-normalizer<3,>=2 in /opt/homebrew/lib/python3.9/site-packages (from requests) (2.1.1)\n",
            "\u001b[33mDEPRECATION: Configuring installation scheme with distutils config files is deprecated and will no longer work in the near future. If you are using a Homebrew or Linuxbrew Python, please see discussion at https://github.com/Homebrew/homebrew-core/issues/76621\u001b[0m\u001b[33m\n",
            "\u001b[0mNote: you may need to restart the kernel to use updated packages.\n",
            "\u001b[33mDEPRECATION: Configuring installation scheme with distutils config files is deprecated and will no longer work in the near future. If you are using a Homebrew or Linuxbrew Python, please see discussion at https://github.com/Homebrew/homebrew-core/issues/76621\u001b[0m\u001b[33m\n",
            "\u001b[0mRequirement already satisfied: pandas in /opt/homebrew/lib/python3.9/site-packages (1.4.4)\n",
            "Requirement already satisfied: numpy>=1.20.0 in /opt/homebrew/lib/python3.9/site-packages (from pandas) (1.23.2)\n",
            "Requirement already satisfied: python-dateutil>=2.8.1 in /opt/homebrew/lib/python3.9/site-packages (from pandas) (2.8.2)\n",
            "Requirement already satisfied: pytz>=2020.1 in /opt/homebrew/lib/python3.9/site-packages (from pandas) (2022.2.1)\n",
            "Requirement already satisfied: six>=1.5 in /opt/homebrew/lib/python3.9/site-packages (from python-dateutil>=2.8.1->pandas) (1.16.0)\n",
            "\u001b[33mDEPRECATION: Configuring installation scheme with distutils config files is deprecated and will no longer work in the near future. If you are using a Homebrew or Linuxbrew Python, please see discussion at https://github.com/Homebrew/homebrew-core/issues/76621\u001b[0m\u001b[33m\n",
            "\u001b[0mNote: you may need to restart the kernel to use updated packages.\n"
          ]
        }
      ],
      "source": [
        "%pip install numpy cython\n",
        "%pip install wheel\n",
        "%pip install ir_datasets\n",
        "%pip install scikit-learn\n",
        "%pip install nltk\n",
        "%pip install requests\n",
        "%pip install pandas"
      ]
    },
    {
      "cell_type": "code",
      "execution_count": 417,
      "metadata": {
        "id": "eYX6dDnjhrfv"
      },
      "outputs": [],
      "source": [
        "import re\n",
        "import ir_datasets\n",
        "import numpy as np\n",
        "import requests\n",
        "import json\n",
        "import nltk\n",
        "from nltk.tokenize import word_tokenize\n",
        "from sklearn.metrics import dcg_score\n",
        "from sklearn.metrics import ndcg_score\n"
      ]
    },
    {
      "cell_type": "code",
      "execution_count": 418,
      "metadata": {},
      "outputs": [],
      "source": [
        "dataset = ir_datasets.load('cranfield')\n"
      ]
    },
    {
      "cell_type": "code",
      "execution_count": 252,
      "metadata": {
        "colab": {
          "base_uri": "https://localhost:8080/"
        },
        "id": "SYex88DXh411",
        "outputId": "3f41420f-6847-4a26-a3a4-ccfe43cacf38"
      },
      "outputs": [
        {
          "data": {
            "text/plain": [
              "1400"
            ]
          },
          "execution_count": 252,
          "metadata": {},
          "output_type": "execute_result"
        }
      ],
      "source": [
        "dataset.docs_count()"
      ]
    },
    {
      "cell_type": "markdown",
      "metadata": {
        "id": "wV6TTTrNHGa8"
      },
      "source": [
        "## EVALUETION FUNCTIONS\n",
        "\n",
        "- \n",
        "- Implementação de funções em algoritimos para executar as avaliações\n"
      ]
    },
    {
      "cell_type": "markdown",
      "metadata": {
        "id": "bnfhbcrnHt2M"
      },
      "source": [
        "### Calculo do DCG@k"
      ]
    },
    {
      "cell_type": "code",
      "execution_count": 152,
      "metadata": {
        "id": "ggM7xnljHyT8"
      },
      "outputs": [],
      "source": [
        "def calc_dcg_k(relevance):\n",
        "  result = 0\n",
        "  for i in range(len(relevance)):\n",
        "    log = np.log2(1 + (i + 1))\n",
        "    result += (relevance[i] / log)\n",
        "  return result"
      ]
    },
    {
      "cell_type": "markdown",
      "metadata": {
        "id": "ti5Yjkr-H23c"
      },
      "source": [
        "### Calculo NDCG@K"
      ]
    },
    {
      "cell_type": "code",
      "execution_count": 153,
      "metadata": {
        "id": "lJ6-CObRIAPn"
      },
      "outputs": [],
      "source": [
        "def calc_ndcg_k(relevance, true_relevance):\n",
        "  return calc_dcg_k(relevance) / calc_dcg_k(true_relevance)"
      ]
    },
    {
      "cell_type": "markdown",
      "metadata": {
        "id": "LB8hj2oSIDst"
      },
      "source": [
        "#### Exemplos"
      ]
    },
    {
      "cell_type": "code",
      "execution_count": 248,
      "metadata": {
        "id": "zLhQZqWvIG9t"
      },
      "outputs": [],
      "source": [
        "relevance = [0,0,3]\n",
        "true_relevance = [4,3,3]"
      ]
    },
    {
      "cell_type": "code",
      "execution_count": 249,
      "metadata": {
        "colab": {
          "base_uri": "https://localhost:8080/"
        },
        "id": "B0X5ciEuIK8U",
        "outputId": "f0eb337f-5abc-43d1-acb8-77c38ccff533"
      },
      "outputs": [
        {
          "data": {
            "text/plain": [
              "0.20290041378171972"
            ]
          },
          "execution_count": 249,
          "metadata": {},
          "output_type": "execute_result"
        }
      ],
      "source": [
        "calc_ndcg_k(relevance, true_relevance)"
      ]
    },
    {
      "cell_type": "code",
      "execution_count": 156,
      "metadata": {
        "colab": {
          "base_uri": "https://localhost:8080/"
        },
        "id": "7_9ynHQxIOxM",
        "outputId": "b22f333b-bb5a-47ec-ff82-8c2ced573d71"
      },
      "outputs": [
        {
          "data": {
            "text/plain": [
              "0.9412217624647558"
            ]
          },
          "execution_count": 156,
          "metadata": {},
          "output_type": "execute_result"
        }
      ],
      "source": [
        "ndcg_score(np.asarray([true_relevance]), np.asarray([relevance]))"
      ]
    },
    {
      "cell_type": "markdown",
      "metadata": {
        "id": "kfFNdi8_pmmJ"
      },
      "source": [
        "## INDEXAR DOCUMENTOS"
      ]
    },
    {
      "cell_type": "code",
      "execution_count": 280,
      "metadata": {
        "id": "v8UD_9HMn9rf"
      },
      "outputs": [],
      "source": [
        "url = 'http://127.0.0.1:8080/nir'"
      ]
    },
    {
      "cell_type": "code",
      "execution_count": 254,
      "metadata": {
        "colab": {
          "base_uri": "https://localhost:8080/"
        },
        "id": "Q_dH94p6UFWN",
        "outputId": "10aa996c-5363-4b26-e51f-bf3fd642eb07"
      },
      "outputs": [
        {
          "name": "stderr",
          "output_type": "stream",
          "text": [
            "[nltk_data] Downloading package punkt to\n",
            "[nltk_data]     /Users/thiagoluizrodrigues/nltk_data...\n",
            "[nltk_data]   Package punkt is already up-to-date!\n"
          ]
        },
        {
          "data": {
            "text/plain": [
              "True"
            ]
          },
          "execution_count": 254,
          "metadata": {},
          "output_type": "execute_result"
        }
      ],
      "source": [
        "nltk.download(\"punkt\")"
      ]
    },
    {
      "cell_type": "code",
      "execution_count": 419,
      "metadata": {
        "colab": {
          "base_uri": "https://localhost:8080/"
        },
        "id": "fAhT_EgUh78j",
        "outputId": "d3e21ce4-7e29-4e45-e907-73d3c7d45a8e"
      },
      "outputs": [
        {
          "name": "stdout",
          "output_type": "stream",
          "text": [
            "Indexed  1400\n"
          ]
        }
      ],
      "source": [
        "count = 0\n",
        "for doc in dataset.docs_iter():\n",
        "\n",
        "  sents = list(word_tokenize(doc.text))\n",
        "  # temps = []\n",
        "  # for sent in sent:\n",
        "  #   temps.append(re.sub('[^A-Za-z\\-]', '', sent))\n",
        "\n",
        "  mystr = ' '.join(map(str, sents))\n",
        "\n",
        "\n",
        "  myobj = {\n",
        "            'id': doc.doc_id,\n",
        "            'title': doc.title.strip(),\n",
        "            'body': mystr.strip()\n",
        "          }\n",
        "\n",
        "  response = requests.post(url, json = myobj)\n",
        "  if response.status_code == 201:\n",
        "    count += 1\n",
        "  else:\n",
        "    print(\"DOC ID \", doc.doc_id, \"Status \", response.status_code)\n",
        "    print(response.text)\n",
        "\n",
        "print(\"Indexed \", count)"
      ]
    },
    {
      "cell_type": "code",
      "execution_count": null,
      "metadata": {
        "colab": {
          "base_uri": "https://localhost:8080/"
        },
        "id": "8TgohiUAiGO5",
        "outputId": "2924ca3c-59e9-4eb2-e81c-1986533252ec"
      },
      "outputs": [
        {
          "data": {
            "text/plain": [
              "ir_datasets.datasets.cranfield.CranfieldDoc"
            ]
          },
          "execution_count": 33,
          "metadata": {},
          "output_type": "execute_result"
        }
      ],
      "source": [
        "dataset.docs_cls()"
      ]
    },
    {
      "cell_type": "markdown",
      "metadata": {
        "id": "gWWojMSICiB2"
      },
      "source": [
        "### Calculo do DCG@k"
      ]
    },
    {
      "cell_type": "markdown",
      "metadata": {
        "id": "Y4danPLyuz7P"
      },
      "source": [
        "## EFETUAR BUSCAS"
      ]
    },
    {
      "cell_type": "code",
      "execution_count": 420,
      "metadata": {
        "id": "7O2gEundCi0K"
      },
      "outputs": [],
      "source": [
        "documents = []"
      ]
    },
    {
      "cell_type": "code",
      "execution_count": 421,
      "metadata": {
        "id": "TIM-foHku6dj"
      },
      "outputs": [],
      "source": [
        "url = \"http://127.0.0.1:8080/nir?query=\""
      ]
    },
    {
      "cell_type": "code",
      "execution_count": 422,
      "metadata": {
        "colab": {
          "base_uri": "https://localhost:8080/",
          "height": 520
        },
        "id": "bd-6uSs8_mSL",
        "outputId": "e4ffe7d7-a3f3-4ac6-ce2b-836a2b3d5275"
      },
      "outputs": [
        {
          "name": "stdout",
          "output_type": "stream",
          "text": [
            "Total..:  225\n"
          ]
        }
      ],
      "source": [
        "count = 0\n",
        "for query in dataset.queries_iter():\n",
        "\n",
        "  # sent = list(word_tokenize(query.text))\n",
        "  # mystr = ' '.join(map(str, sent))\n",
        "  qry = url + query.text  \n",
        "  x = requests.get(qry)\n",
        "\n",
        "  if x.status_code == 200:\n",
        "    obj = json.loads(x.text)\n",
        "    documents.append({\n",
        "        \"query_id\":query.query_id,\n",
        "        \"result\":obj\n",
        "    })\n",
        "    count += 1\n",
        "\n",
        "\n",
        "print(\"Total..: \",count)\n",
        "  # print(\"Query ID:\", query.query_id, \"Status code:\", x.status_code)"
      ]
    },
    {
      "cell_type": "code",
      "execution_count": null,
      "metadata": {
        "colab": {
          "base_uri": "https://localhost:8080/"
        },
        "id": "kwKiZ5TrDJRj",
        "outputId": "f68d83db-4eec-4389-f0de-3f3da1c030ca"
      },
      "outputs": [],
      "source": [
        "for doc in documents[0:1]:\n",
        "  print(doc) "
      ]
    },
    {
      "cell_type": "code",
      "execution_count": null,
      "metadata": {},
      "outputs": [],
      "source": [
        "for query in dataset.queries_iter():\n",
        "    print(query)"
      ]
    },
    {
      "cell_type": "code",
      "execution_count": 223,
      "metadata": {
        "colab": {
          "base_uri": "https://localhost:8080/",
          "height": 332
        },
        "id": "nFsImZY1PNGa",
        "outputId": "4ad75e6a-40c3-453d-99bd-46bd05b64168"
      },
      "outputs": [
        {
          "data": {
            "text/html": [
              "<div>\n",
              "<style scoped>\n",
              "    .dataframe tbody tr th:only-of-type {\n",
              "        vertical-align: middle;\n",
              "    }\n",
              "\n",
              "    .dataframe tbody tr th {\n",
              "        vertical-align: top;\n",
              "    }\n",
              "\n",
              "    .dataframe thead th {\n",
              "        text-align: right;\n",
              "    }\n",
              "</style>\n",
              "<table border=\"1\" class=\"dataframe\">\n",
              "  <thead>\n",
              "    <tr style=\"text-align: right;\">\n",
              "      <th></th>\n",
              "      <th>query_id</th>\n",
              "      <th>text</th>\n",
              "    </tr>\n",
              "  </thead>\n",
              "  <tbody>\n",
              "    <tr>\n",
              "      <th>0</th>\n",
              "      <td>1</td>\n",
              "      <td>what similarity laws must be obeyed when const...</td>\n",
              "    </tr>\n",
              "    <tr>\n",
              "      <th>1</th>\n",
              "      <td>2</td>\n",
              "      <td>what are the structural and aeroelastic proble...</td>\n",
              "    </tr>\n",
              "    <tr>\n",
              "      <th>2</th>\n",
              "      <td>4</td>\n",
              "      <td>what problems of heat conduction in composite ...</td>\n",
              "    </tr>\n",
              "    <tr>\n",
              "      <th>3</th>\n",
              "      <td>8</td>\n",
              "      <td>can a criterion be developed to show empirical...</td>\n",
              "    </tr>\n",
              "    <tr>\n",
              "      <th>4</th>\n",
              "      <td>9</td>\n",
              "      <td>what chemical kinetic system is applicable to ...</td>\n",
              "    </tr>\n",
              "    <tr>\n",
              "      <th>...</th>\n",
              "      <td>...</td>\n",
              "      <td>...</td>\n",
              "    </tr>\n",
              "    <tr>\n",
              "      <th>220</th>\n",
              "      <td>353</td>\n",
              "      <td>papers applicable to this problem (calculation...</td>\n",
              "    </tr>\n",
              "    <tr>\n",
              "      <th>221</th>\n",
              "      <td>355</td>\n",
              "      <td>has anyone investigated the shear buckling of ...</td>\n",
              "    </tr>\n",
              "    <tr>\n",
              "      <th>222</th>\n",
              "      <td>356</td>\n",
              "      <td>papers on shear buckling of unstiffened rectan...</td>\n",
              "    </tr>\n",
              "    <tr>\n",
              "      <th>223</th>\n",
              "      <td>360</td>\n",
              "      <td>in practice, how close to reality are the assu...</td>\n",
              "    </tr>\n",
              "    <tr>\n",
              "      <th>224</th>\n",
              "      <td>365</td>\n",
              "      <td>what design factors can be used to control lif...</td>\n",
              "    </tr>\n",
              "  </tbody>\n",
              "</table>\n",
              "<p>225 rows × 2 columns</p>\n",
              "</div>"
            ],
            "text/plain": [
              "    query_id                                               text\n",
              "0          1  what similarity laws must be obeyed when const...\n",
              "1          2  what are the structural and aeroelastic proble...\n",
              "2          4  what problems of heat conduction in composite ...\n",
              "3          8  can a criterion be developed to show empirical...\n",
              "4          9  what chemical kinetic system is applicable to ...\n",
              "..       ...                                                ...\n",
              "220      353  papers applicable to this problem (calculation...\n",
              "221      355  has anyone investigated the shear buckling of ...\n",
              "222      356  papers on shear buckling of unstiffened rectan...\n",
              "223      360  in practice, how close to reality are the assu...\n",
              "224      365  what design factors can be used to control lif...\n",
              "\n",
              "[225 rows x 2 columns]"
            ]
          },
          "execution_count": 223,
          "metadata": {},
          "output_type": "execute_result"
        }
      ],
      "source": [
        "import pandas as pd\n",
        "pd.DataFrame(dataset.queries_iter())"
      ]
    },
    {
      "cell_type": "code",
      "execution_count": 167,
      "metadata": {
        "colab": {
          "base_uri": "https://localhost:8080/"
        },
        "id": "4_XrVDL30cCz",
        "outputId": "3c26620a-c8a7-4643-8034-e9ab688c4665"
      },
      "outputs": [
        {
          "data": {
            "text/plain": [
              "('query_id', 'text')"
            ]
          },
          "execution_count": 167,
          "metadata": {},
          "output_type": "execute_result"
        }
      ],
      "source": [
        "dataset.queries_cls()._fields"
      ]
    },
    {
      "cell_type": "markdown",
      "metadata": {
        "id": "WrQnCcFuI0Bm"
      },
      "source": [
        "# RELEVANCIA"
      ]
    },
    {
      "cell_type": "code",
      "execution_count": 423,
      "metadata": {},
      "outputs": [],
      "source": [
        "def get_documents(query_id):\n",
        "    temp_documents = []\n",
        "    for doc in documents:\n",
        "        if str(query_id) != doc['query_id']:\n",
        "            continue\n",
        "        query_results = doc['result']['queryResults']\n",
        "        for result in query_results:\n",
        "            temp_documents.append(result)\n",
        "    return temp_documents\n"
      ]
    },
    {
      "cell_type": "code",
      "execution_count": 424,
      "metadata": {},
      "outputs": [],
      "source": [
        "def get_qrels(query_id):\n",
        "    temp_qrels = []\n",
        "    for qrel in dataset.qrels_iter():\n",
        "        if qrel.query_id == str(query_id): \n",
        "            temp_qrels.append(qrel)\n",
        "\n",
        "    return temp_qrels\n",
        "    "
      ]
    },
    {
      "cell_type": "code",
      "execution_count": 425,
      "metadata": {},
      "outputs": [],
      "source": [
        "def get_relevance(doc_id, qrels):\n",
        "    for qrel in qrels:\n",
        "        if (qrel.doc_id == str(doc_id)):\n",
        "            return qrel.relevance\n",
        "    return 0"
      ]
    },
    {
      "cell_type": "code",
      "execution_count": 380,
      "metadata": {},
      "outputs": [],
      "source": [
        "class DocResult:\n",
        "    def __init__(self, query_id, document_id, relevance, seq):\n",
        "        self.query_id = query_id\n",
        "        self.document_id = document_id\n",
        "        self.relevance = relevance\n",
        "        self.seq = seq\n"
      ]
    },
    {
      "cell_type": "code",
      "execution_count": 426,
      "metadata": {},
      "outputs": [],
      "source": [
        "def get_query_result_docs(query_id, query_documents):\n",
        "  \n",
        "  temp_docs = []\n",
        "  qrels = get_qrels(query_id)\n",
        "\n",
        "  seq = 0\n",
        "  for doc in query_documents:\n",
        "    document_id = doc['document']['id']\n",
        "    relevance = get_relevance(document_id, qrels)\n",
        "    seq += 1\n",
        "    temp_docs.append(DocResult(query_id, document_id, relevance, seq))\n",
        "  \n",
        "  return temp_docs\n",
        "\n",
        "  \n"
      ]
    },
    {
      "cell_type": "code",
      "execution_count": 230,
      "metadata": {},
      "outputs": [
        {
          "data": {
            "text/plain": [
              "29"
            ]
          },
          "execution_count": 230,
          "metadata": {},
          "output_type": "execute_result"
        }
      ],
      "source": [
        "len(get_qrels(1))\n"
      ]
    },
    {
      "cell_type": "code",
      "execution_count": 427,
      "metadata": {
        "id": "O5QirfjZd3N0"
      },
      "outputs": [
        {
          "name": "stdout",
          "output_type": "stream",
          "text": [
            "++++++++++++++++++++++++\n",
            "( 1 )  what similarity laws must be obeyed when constructing aeroelastic models\n",
            "of heated high speed aircraft .\n",
            "K: 1   486   -1\n",
            "K: 2   13   4\n",
            "K: 3   1268   0\n",
            "K: 4   51   3\n",
            "K: 5   1144   0\n",
            "K: 6   792   0\n",
            "K: 7   686   0\n",
            "K: 8   685   0\n",
            "K: 9   14   4\n",
            "K: 10   12   3\n",
            "++++++++++++++++++++++++\n",
            "( 2 )  what are the structural and aeroelastic problems associated with flight\n",
            "of high speed aircraft .\n",
            "K: 1   51   3\n",
            "K: 2   12   1\n",
            "K: 3   792   0\n",
            "K: 4   14   4\n",
            "K: 5   1147   0\n",
            "K: 6   1169   0\n",
            "K: 7   100   0\n",
            "K: 8   746   1\n",
            "K: 9   884   0\n",
            "K: 10   1144   0\n",
            "++++++++++++++++++++++++\n",
            "( 56 )  what size of end plate can be safely used to simulate two-dimensional\n",
            "flow conditions over a bluff cylindrical body of finite aspect ratio .\n",
            "K: 1   1040   0\n",
            "K: 2   1209   0\n",
            "K: 3   1239   0\n",
            "K: 4   1082   0\n",
            "K: 5   749   3\n",
            "K: 6   704   0\n",
            "K: 7   433   0\n",
            "K: 8   1341   0\n",
            "K: 9   522   0\n",
            "K: 10   247   0\n",
            "++++++++++++++++++++++++\n",
            "( 83 )  what controls leading-edge attachment at transonic speeds .\n",
            "K: 1   797   0\n",
            "K: 2   526   0\n",
            "K: 3   712   0\n",
            "K: 4   334   0\n",
            "K: 5   440   0\n",
            "K: 6   683   2\n",
            "K: 7   801   0\n",
            "K: 8   707   0\n",
            "K: 9   222   0\n",
            "K: 10   1228   0\n",
            "++++++++++++++++++++++++\n",
            "( 97 )  to what extent can readily available steady-state aerodynamic data be\n",
            "utilized to predict lifting-surface flutter characteristics .\n",
            "K: 1   753   0\n",
            "K: 2   202   0\n",
            "K: 3   1290   0\n",
            "K: 4   856   0\n",
            "K: 5   14   0\n",
            "K: 6   766   0\n",
            "K: 7   686   0\n",
            "K: 8   859   0\n",
            "K: 9   441   0\n",
            "K: 10   1339   4\n",
            "++++++++++++++++++++++++\n",
            "( 100 )  how much is known about boundary layer flows along non-circular\n",
            "cylinders .\n",
            "K: 1   839   0\n",
            "K: 2   458   0\n",
            "K: 3   845   0\n",
            "K: 4   332   0\n",
            "K: 5   329   0\n",
            "K: 6   1359   0\n",
            "K: 7   1122   2\n",
            "K: 8   364   0\n",
            "K: 9   1383   0\n",
            "K: 10   300   0\n",
            "++++++++++++++++++++++++\n",
            "( 171 )  what are the aerodynamic interference effects on the fin lift and body\n",
            "lift of a fin-body combination .\n",
            "K: 1   1239   0\n",
            "K: 2   803   0\n",
            "K: 3   701   0\n",
            "K: 4   610   0\n",
            "K: 5   252   1\n",
            "K: 6   229   0\n",
            "K: 7   520   0\n",
            "K: 8   799   0\n",
            "K: 9   1380   0\n",
            "K: 10   210   0\n",
            "++++++++++++++++++++++++\n",
            "( 189 )  has anyone programmed a pump design method for a high-speed digital\n",
            "computer .\n",
            "K: 1   945   0\n",
            "K: 2   92   0\n",
            "K: 3   1063   0\n",
            "K: 4   762   0\n",
            "K: 5   1246   0\n",
            "K: 6   989   0\n",
            "K: 7   869   2\n",
            "K: 8   111   0\n",
            "K: 9   988   0\n",
            "K: 10   328   0\n",
            "++++++++++++++++++++++++\n",
            "( 196 )  what are the flutter characteristics of the exposed skin panels of the\n",
            "x-15 vertical stabilizer when subjected to aerodynamic heating .\n",
            "K: 1   859   0\n",
            "K: 2   766   0\n",
            "K: 3   856   0\n",
            "K: 4   948   0\n",
            "K: 5   857   0\n",
            "K: 6   202   3\n",
            "K: 7   753   0\n",
            "K: 8   1147   0\n",
            "K: 9   858   0\n",
            "K: 10   1008   0\n",
            "++++++++++++++++++++++++\n",
            "( 212 )  what dome contours minimize discontinuity stresses when used as closures\n",
            "on cylindrical pressure vessels .\n",
            "K: 1   827   0\n",
            "K: 2   889   2\n",
            "K: 3   954   0\n",
            "K: 4   329   0\n",
            "K: 5   1125   0\n",
            "K: 6   1175   0\n",
            "K: 7   870   0\n",
            "K: 8   885   3\n",
            "K: 9   1134   0\n",
            "K: 10   890   3\n",
            "++++++++++++++++++++++++\n",
            "( 213 )  what general solutions for the stresses in pressurized shells of\n",
            "revolution are available .\n",
            "K: 1   889   2\n",
            "K: 2   826   0\n",
            "K: 3   839   0\n",
            "K: 4   1051   0\n",
            "K: 5   1043   0\n",
            "K: 6   1070   0\n",
            "K: 7   955   0\n",
            "K: 8   1134   0\n",
            "K: 9   930   0\n",
            "K: 10   1052   0\n",
            "++++++++++++++++++++++++\n",
            "( 214 )  can studies of pure membrane cylinders having no wall bending stiffness\n",
            "but maintaining their shape by virtue of internal pressure provide any\n",
            "insight into the behaviour of pressurized cylinders with finite wall\n",
            "stiffness .\n",
            "K: 1   839   0\n",
            "K: 2   846   0\n",
            "K: 3   955   0\n",
            "K: 4   199   0\n",
            "K: 5   763   0\n",
            "K: 6   928   0\n",
            "K: 7   1051   0\n",
            "K: 8   1363   3\n",
            "K: 9   838   0\n",
            "K: 10   1039   0\n",
            "++++++++++++++++++++++++\n",
            "( 225 )  how can the effect of the boundary-layer on wing pressure be calculated,\n",
            "and what is its magnitude .\n",
            "K: 1   696   0\n",
            "K: 2   673   0\n",
            "K: 3   1225   0\n",
            "K: 4   433   3\n",
            "K: 5   794   0\n",
            "K: 6   205   0\n",
            "K: 7   1239   0\n",
            "K: 8   683   0\n",
            "K: 9   94   0\n",
            "K: 10   189   0\n"
          ]
        }
      ],
      "source": [
        "\n",
        "for query in dataset.queries_iter():\n",
        "    \n",
        "    result_docs = get_query_result_docs(\n",
        "        query_id=query.query_id, query_documents=get_documents(query_id=query.query_id))\n",
        "    i = 0\n",
        "\n",
        "    sm = 0\n",
        "    for x in result_docs:\n",
        "        sm += x.relevance\n",
        "\n",
        "    if sm > 0:\n",
        "\n",
        "        print(\"++++++++++++++++++++++++\")\n",
        "        print(\"(\", query.query_id, \") \", query.text)\n",
        "\n",
        "        for x in result_docs:\n",
        "            i += 1\n",
        "            print(\"K:\", i, \" \",x.document_id, \" \", x.relevance)\n"
      ]
    },
    {
      "cell_type": "code",
      "execution_count": 415,
      "metadata": {},
      "outputs": [
        {
          "data": {
            "text/plain": [
              "[0, 0, 0, 0, 3, 0, 0, 0, 0, 0]"
            ]
          },
          "execution_count": 415,
          "metadata": {},
          "output_type": "execute_result"
        }
      ],
      "source": [
        "query_id = 214\n",
        "result_docs = get_query_result_docs(\n",
        "    query_id=query_id, query_documents=get_documents(query_id=query_id))\n",
        "i = 0\n",
        "relevance = []\n",
        "for x in result_docs[0:10]:\n",
        "    i += 1\n",
        "    relevance.append(x.relevance)\n",
        "    #print(\"K:\", i, \" \",x.document_id, \" \", x.relevance)\n",
        "relevance"
      ]
    },
    {
      "cell_type": "code",
      "execution_count": 416,
      "metadata": {},
      "outputs": [
        {
          "data": {
            "text/plain": [
              "0.15902491206401098"
            ]
          },
          "execution_count": 416,
          "metadata": {},
          "output_type": "execute_result"
        }
      ],
      "source": [
        "true_relevance = []\n",
        "for qrel in get_qrels(query_id=query_id)[0:10]:\n",
        "    true_relevance.append(qrel.relevance)\n",
        "calc_ndcg_k(relevance, true_relevance)\n"
      ]
    }
  ],
  "metadata": {
    "colab": {
      "collapsed_sections": [],
      "name": "Avaliação do sistema.ipynb",
      "provenance": [],
      "toc_visible": true
    },
    "kernelspec": {
      "display_name": "Python 3.9.13 64-bit",
      "language": "python",
      "name": "python3"
    },
    "language_info": {
      "codemirror_mode": {
        "name": "ipython",
        "version": 3
      },
      "file_extension": ".py",
      "mimetype": "text/x-python",
      "name": "python",
      "nbconvert_exporter": "python",
      "pygments_lexer": "ipython3",
      "version": "3.9.13"
    },
    "vscode": {
      "interpreter": {
        "hash": "a665b5d41d17b532ea9890333293a1b812fa0b73c9c25c950b3cedf1bebd0438"
      }
    }
  },
  "nbformat": 4,
  "nbformat_minor": 0
}

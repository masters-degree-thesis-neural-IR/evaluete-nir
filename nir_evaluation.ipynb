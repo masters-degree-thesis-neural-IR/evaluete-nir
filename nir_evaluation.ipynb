{
  "cells": [
    {
      "cell_type": "markdown",
      "metadata": {
        "id": "rF0T3YURGgQe"
      },
      "source": [
        "## DEPENDENCE INSTALL\n",
        "\n",
        "- Dependencies install for evaluation of metrics\n",
        "- Instalação das depedendencias necessárias para executar todos as avaliações"
      ]
    },
    {
      "cell_type": "code",
      "execution_count": 76,
      "metadata": {
        "colab": {
          "base_uri": "https://localhost:8080/"
        },
        "id": "CwcXLbGWhnbV",
        "outputId": "b9106385-df56-402d-e0d9-22c46f7e592f"
      },
      "outputs": [
        {
          "name": "stdout",
          "output_type": "stream",
          "text": [
            "\u001b[33mDEPRECATION: Configuring installation scheme with distutils config files is deprecated and will no longer work in the near future. If you are using a Homebrew or Linuxbrew Python, please see discussion at https://github.com/Homebrew/homebrew-core/issues/76621\u001b[0m\u001b[33m\n",
            "\u001b[0mRequirement already satisfied: pandas in /opt/homebrew/lib/python3.9/site-packages (1.4.4)\n",
            "Requirement already satisfied: python-dateutil>=2.8.1 in /opt/homebrew/lib/python3.9/site-packages (from pandas) (2.8.2)\n",
            "Requirement already satisfied: numpy>=1.20.0 in /opt/homebrew/lib/python3.9/site-packages (from pandas) (1.23.2)\n",
            "Requirement already satisfied: pytz>=2020.1 in /opt/homebrew/lib/python3.9/site-packages (from pandas) (2022.2.1)\n",
            "Requirement already satisfied: six>=1.5 in /opt/homebrew/lib/python3.9/site-packages (from python-dateutil>=2.8.1->pandas) (1.16.0)\n",
            "\u001b[33mDEPRECATION: Configuring installation scheme with distutils config files is deprecated and will no longer work in the near future. If you are using a Homebrew or Linuxbrew Python, please see discussion at https://github.com/Homebrew/homebrew-core/issues/76621\u001b[0m\u001b[33m\n",
            "\u001b[0mNote: you may need to restart the kernel to use updated packages.\n"
          ]
        }
      ],
      "source": [
        "%pip install numpy cython\n",
        "%pip install wheel\n",
        "%pip install ir_datasets\n",
        "%pip install scikit-learn\n",
        "%pip install nltk\n",
        "%pip install requests\n",
        "%pip install pandas\n",
        "%pip install matplotlib\n",
        "%pip install pandas"
      ]
    },
    {
      "cell_type": "code",
      "execution_count": 3,
      "metadata": {
        "id": "eYX6dDnjhrfv"
      },
      "outputs": [],
      "source": [
        "import re\n",
        "import ir_datasets\n",
        "import numpy as np\n",
        "import requests\n",
        "import json\n",
        "import nltk\n",
        "from nltk.tokenize import word_tokenize\n",
        "from sklearn.metrics import dcg_score\n",
        "from sklearn.metrics import ndcg_score\n"
      ]
    },
    {
      "cell_type": "code",
      "execution_count": 4,
      "metadata": {},
      "outputs": [],
      "source": [
        "dataset = ir_datasets.load('cranfield')"
      ]
    },
    {
      "cell_type": "code",
      "execution_count": 5,
      "metadata": {
        "colab": {
          "base_uri": "https://localhost:8080/"
        },
        "id": "SYex88DXh411",
        "outputId": "3f41420f-6847-4a26-a3a4-ccfe43cacf38"
      },
      "outputs": [
        {
          "data": {
            "text/plain": [
              "1400"
            ]
          },
          "execution_count": 5,
          "metadata": {},
          "output_type": "execute_result"
        }
      ],
      "source": [
        "dataset.docs_count()"
      ]
    },
    {
      "cell_type": "markdown",
      "metadata": {
        "id": "wV6TTTrNHGa8"
      },
      "source": [
        "## EVALUETION FUNCTIONS\n",
        "\n",
        "- Implementação de funções em algoritimos para executar as avaliações\n"
      ]
    },
    {
      "cell_type": "markdown",
      "metadata": {
        "id": "bnfhbcrnHt2M"
      },
      "source": [
        "### Calculo do DCG@k"
      ]
    },
    {
      "cell_type": "code",
      "execution_count": 6,
      "metadata": {
        "id": "ggM7xnljHyT8"
      },
      "outputs": [],
      "source": [
        "def calc_dcg_k(relevance):\n",
        "  result = 0\n",
        "  for i in range(len(relevance)):\n",
        "    log = np.log2(1 + (i + 1))\n",
        "    result += (relevance[i] / log)\n",
        "  return result"
      ]
    },
    {
      "cell_type": "markdown",
      "metadata": {
        "id": "ti5Yjkr-H23c"
      },
      "source": [
        "### Calculo NDCG@K"
      ]
    },
    {
      "cell_type": "code",
      "execution_count": 7,
      "metadata": {
        "id": "lJ6-CObRIAPn"
      },
      "outputs": [],
      "source": [
        "def calc_ndcg_k(relevance, true_relevance):\n",
        "  return calc_dcg_k(relevance) / calc_dcg_k(true_relevance)"
      ]
    },
    {
      "cell_type": "markdown",
      "metadata": {
        "id": "LB8hj2oSIDst"
      },
      "source": [
        "#### Exemplos"
      ]
    },
    {
      "cell_type": "code",
      "execution_count": 51,
      "metadata": {
        "id": "zLhQZqWvIG9t"
      },
      "outputs": [],
      "source": [
        "relevance = [0, 3, 3]\n",
        "true_relevance = [4,3,3]"
      ]
    },
    {
      "cell_type": "code",
      "execution_count": 52,
      "metadata": {
        "colab": {
          "base_uri": "https://localhost:8080/"
        },
        "id": "B0X5ciEuIK8U",
        "outputId": "f0eb337f-5abc-43d1-acb8-77c38ccff533"
      },
      "outputs": [
        {
          "data": {
            "text/plain": [
              "0.45893222991541405"
            ]
          },
          "execution_count": 52,
          "metadata": {},
          "output_type": "execute_result"
        }
      ],
      "source": [
        "calc_ndcg_k(relevance, true_relevance)"
      ]
    },
    {
      "cell_type": "code",
      "execution_count": 10,
      "metadata": {
        "colab": {
          "base_uri": "https://localhost:8080/"
        },
        "id": "7_9ynHQxIOxM",
        "outputId": "b22f333b-bb5a-47ec-ff82-8c2ced573d71"
      },
      "outputs": [
        {
          "data": {
            "text/plain": [
              "0.9999999999999999"
            ]
          },
          "execution_count": 10,
          "metadata": {},
          "output_type": "execute_result"
        }
      ],
      "source": [
        "ndcg_score(np.asarray([true_relevance]), np.asarray([relevance]))"
      ]
    },
    {
      "cell_type": "markdown",
      "metadata": {
        "id": "kfFNdi8_pmmJ"
      },
      "source": [
        "## INDEXAR DOCUMENTOS"
      ]
    },
    {
      "cell_type": "code",
      "execution_count": 11,
      "metadata": {
        "id": "v8UD_9HMn9rf"
      },
      "outputs": [],
      "source": [
        "url = 'http://127.0.0.1:8080/nir'"
      ]
    },
    {
      "cell_type": "code",
      "execution_count": 12,
      "metadata": {
        "colab": {
          "base_uri": "https://localhost:8080/"
        },
        "id": "Q_dH94p6UFWN",
        "outputId": "10aa996c-5363-4b26-e51f-bf3fd642eb07"
      },
      "outputs": [
        {
          "name": "stderr",
          "output_type": "stream",
          "text": [
            "[nltk_data] Downloading package punkt to\n",
            "[nltk_data]     /Users/thiagoluizrodrigues/nltk_data...\n",
            "[nltk_data]   Package punkt is already up-to-date!\n"
          ]
        },
        {
          "data": {
            "text/plain": [
              "True"
            ]
          },
          "execution_count": 12,
          "metadata": {},
          "output_type": "execute_result"
        }
      ],
      "source": [
        "nltk.download(\"punkt\")"
      ]
    },
    {
      "cell_type": "code",
      "execution_count": 13,
      "metadata": {
        "colab": {
          "base_uri": "https://localhost:8080/"
        },
        "id": "fAhT_EgUh78j",
        "outputId": "d3e21ce4-7e29-4e45-e907-73d3c7d45a8e"
      },
      "outputs": [
        {
          "ename": "AttributeError",
          "evalue": "'int' object has no attribute 'status_code'",
          "output_type": "error",
          "traceback": [
            "\u001b[0;31m---------------------------------------------------------------------------\u001b[0m",
            "\u001b[0;31mAttributeError\u001b[0m                            Traceback (most recent call last)",
            "\u001b[1;32m/Users/thiagoluizrodrigues/Desktop/Mestrado/evaluationcode/nir_evaluation.ipynb Célula: 18\u001b[0m in \u001b[0;36m<cell line: 2>\u001b[0;34m()\u001b[0m\n\u001b[1;32m     <a href='vscode-notebook-cell:/Users/thiagoluizrodrigues/Desktop/Mestrado/evaluationcode/nir_evaluation.ipynb#X23sZmlsZQ%3D%3D?line=11'>12</a>\u001b[0m myobj \u001b[39m=\u001b[39m {\n\u001b[1;32m     <a href='vscode-notebook-cell:/Users/thiagoluizrodrigues/Desktop/Mestrado/evaluationcode/nir_evaluation.ipynb#X23sZmlsZQ%3D%3D?line=12'>13</a>\u001b[0m           \u001b[39m'\u001b[39m\u001b[39mid\u001b[39m\u001b[39m'\u001b[39m: doc\u001b[39m.\u001b[39mdoc_id,\n\u001b[1;32m     <a href='vscode-notebook-cell:/Users/thiagoluizrodrigues/Desktop/Mestrado/evaluationcode/nir_evaluation.ipynb#X23sZmlsZQ%3D%3D?line=13'>14</a>\u001b[0m           \u001b[39m'\u001b[39m\u001b[39mtitle\u001b[39m\u001b[39m'\u001b[39m: doc\u001b[39m.\u001b[39mtitle\u001b[39m.\u001b[39mstrip(),\n\u001b[1;32m     <a href='vscode-notebook-cell:/Users/thiagoluizrodrigues/Desktop/Mestrado/evaluationcode/nir_evaluation.ipynb#X23sZmlsZQ%3D%3D?line=14'>15</a>\u001b[0m           \u001b[39m'\u001b[39m\u001b[39mbody\u001b[39m\u001b[39m'\u001b[39m: mystr\u001b[39m.\u001b[39mstrip()\n\u001b[1;32m     <a href='vscode-notebook-cell:/Users/thiagoluizrodrigues/Desktop/Mestrado/evaluationcode/nir_evaluation.ipynb#X23sZmlsZQ%3D%3D?line=15'>16</a>\u001b[0m         }\n\u001b[1;32m     <a href='vscode-notebook-cell:/Users/thiagoluizrodrigues/Desktop/Mestrado/evaluationcode/nir_evaluation.ipynb#X23sZmlsZQ%3D%3D?line=17'>18</a>\u001b[0m response \u001b[39m=\u001b[39m \u001b[39m201\u001b[39m \u001b[39m#/requests.post(url, json = myobj)\u001b[39;00m\n\u001b[0;32m---> <a href='vscode-notebook-cell:/Users/thiagoluizrodrigues/Desktop/Mestrado/evaluationcode/nir_evaluation.ipynb#X23sZmlsZQ%3D%3D?line=18'>19</a>\u001b[0m \u001b[39mif\u001b[39;00m response\u001b[39m.\u001b[39;49mstatus_code \u001b[39m==\u001b[39m \u001b[39m201\u001b[39m:\n\u001b[1;32m     <a href='vscode-notebook-cell:/Users/thiagoluizrodrigues/Desktop/Mestrado/evaluationcode/nir_evaluation.ipynb#X23sZmlsZQ%3D%3D?line=19'>20</a>\u001b[0m   count \u001b[39m+\u001b[39m\u001b[39m=\u001b[39m \u001b[39m1\u001b[39m\n\u001b[1;32m     <a href='vscode-notebook-cell:/Users/thiagoluizrodrigues/Desktop/Mestrado/evaluationcode/nir_evaluation.ipynb#X23sZmlsZQ%3D%3D?line=20'>21</a>\u001b[0m \u001b[39melse\u001b[39;00m:\n",
            "\u001b[0;31mAttributeError\u001b[0m: 'int' object has no attribute 'status_code'"
          ]
        }
      ],
      "source": [
        "count = 0\n",
        "for doc in dataset.docs_iter():\n",
        "\n",
        "  sents = list(word_tokenize(doc.text))\n",
        "  # temps = []\n",
        "  # for sent in sent:\n",
        "  #   temps.append(re.sub('[^A-Za-z\\-]', '', sent))\n",
        "\n",
        "  mystr = ' '.join(map(str, sents))\n",
        "\n",
        "\n",
        "  myobj = {\n",
        "            'id': doc.doc_id,\n",
        "            'title': doc.title.strip(),\n",
        "            'body': mystr.strip()\n",
        "          }\n",
        "\n",
        "  response = 201 #/requests.post(url, json = myobj)\n",
        "  if response.status_code == 201:\n",
        "    count += 1\n",
        "  else:\n",
        "    print(\"DOC ID \", doc.doc_id, \"Status \", response.status_code)\n",
        "    print(response.text)\n",
        "\n",
        "print(\"Indexed \", count)"
      ]
    },
    {
      "cell_type": "code",
      "execution_count": 14,
      "metadata": {
        "colab": {
          "base_uri": "https://localhost:8080/"
        },
        "id": "8TgohiUAiGO5",
        "outputId": "2924ca3c-59e9-4eb2-e81c-1986533252ec"
      },
      "outputs": [
        {
          "data": {
            "text/plain": [
              "ir_datasets.datasets.cranfield.CranfieldDoc"
            ]
          },
          "execution_count": 14,
          "metadata": {},
          "output_type": "execute_result"
        }
      ],
      "source": [
        "dataset.docs_cls()"
      ]
    },
    {
      "cell_type": "markdown",
      "metadata": {
        "id": "gWWojMSICiB2"
      },
      "source": [
        "### Calculo do DCG@k"
      ]
    },
    {
      "cell_type": "markdown",
      "metadata": {
        "id": "Y4danPLyuz7P"
      },
      "source": [
        "## EFETUAR BUSCAS"
      ]
    },
    {
      "cell_type": "code",
      "execution_count": 15,
      "metadata": {
        "id": "7O2gEundCi0K"
      },
      "outputs": [],
      "source": [
        "documents = []"
      ]
    },
    {
      "cell_type": "code",
      "execution_count": 16,
      "metadata": {
        "id": "TIM-foHku6dj"
      },
      "outputs": [],
      "source": [
        "url = \"http://127.0.0.1:8080/nir?query=\""
      ]
    },
    {
      "cell_type": "code",
      "execution_count": 17,
      "metadata": {
        "colab": {
          "base_uri": "https://localhost:8080/",
          "height": 520
        },
        "id": "bd-6uSs8_mSL",
        "outputId": "e4ffe7d7-a3f3-4ac6-ce2b-836a2b3d5275"
      },
      "outputs": [
        {
          "name": "stdout",
          "output_type": "stream",
          "text": [
            "Total..:  225\n"
          ]
        }
      ],
      "source": [
        "count = 0\n",
        "for query in dataset.queries_iter():\n",
        "\n",
        "  # sent = list(word_tokenize(query.text))\n",
        "  # mystr = ' '.join(map(str, sent))\n",
        "  qry = url + query.text + \"&semantic=0\"\n",
        "  x = requests.get(qry)\n",
        "\n",
        "  if x.status_code == 200:\n",
        "    obj = json.loads(x.text)\n",
        "    documents.append({\n",
        "        \"query_id\":query.query_id,\n",
        "        \"result\":obj\n",
        "    })\n",
        "    count += 1\n",
        "\n",
        "\n",
        "print(\"Total..: \",count)\n",
        "  # print(\"Query ID:\", query.query_id, \"Status code:\", x.status_code)"
      ]
    },
    {
      "cell_type": "code",
      "execution_count": 18,
      "metadata": {
        "colab": {
          "base_uri": "https://localhost:8080/",
          "height": 332
        },
        "id": "nFsImZY1PNGa",
        "outputId": "4ad75e6a-40c3-453d-99bd-46bd05b64168"
      },
      "outputs": [],
      "source": [
        "#import pandas as pd\n",
        "#pd.DataFrame(dataset.queries_iter())"
      ]
    },
    {
      "cell_type": "code",
      "execution_count": 19,
      "metadata": {},
      "outputs": [],
      "source": [
        "def get_documents(query_id):\n",
        "    temp_documents = []\n",
        "    for doc in documents:\n",
        "        if str(query_id) != doc['query_id']:\n",
        "            continue\n",
        "        query_results = doc['result']['queryResults']\n",
        "        for result in query_results:\n",
        "            temp_documents.append(result)\n",
        "    return temp_documents\n"
      ]
    },
    {
      "cell_type": "code",
      "execution_count": 20,
      "metadata": {},
      "outputs": [],
      "source": [
        "def get_qrels(query_id):\n",
        "    temp_qrels = []\n",
        "    for qrel in dataset.qrels_iter():\n",
        "        if qrel.query_id == str(query_id): \n",
        "            temp_qrels.append(qrel)\n",
        "\n",
        "    return temp_qrels\n",
        "    "
      ]
    },
    {
      "cell_type": "code",
      "execution_count": 21,
      "metadata": {},
      "outputs": [],
      "source": [
        "def get_doc_relevance(doc_id, qrels):\n",
        "    for qrel in qrels:\n",
        "        if (qrel.doc_id == str(doc_id)):\n",
        "            return qrel.relevance\n",
        "    return 0"
      ]
    },
    {
      "cell_type": "code",
      "execution_count": 22,
      "metadata": {},
      "outputs": [],
      "source": [
        "class DocResult:\n",
        "    def __init__(self, query_id, document_id, relevance, seq):\n",
        "        self.query_id = query_id\n",
        "        self.document_id = document_id\n",
        "        self.relevance = relevance\n",
        "        self.seq = seq\n"
      ]
    },
    {
      "cell_type": "code",
      "execution_count": 23,
      "metadata": {},
      "outputs": [],
      "source": [
        "def get_query_result_docs(query_id, query_documents):\n",
        "  \n",
        "  temp_docs = []\n",
        "  qrels = get_qrels(query_id)\n",
        "\n",
        "  seq = 0\n",
        "  for doc in query_documents:\n",
        "    document_id = doc['document']['id']\n",
        "    relevance = get_doc_relevance(document_id, qrels)\n",
        "    seq += 1\n",
        "    temp_docs.append(DocResult(query_id, document_id, relevance, seq))\n",
        "  \n",
        "  return temp_docs\n",
        "\n",
        "  \n"
      ]
    },
    {
      "cell_type": "code",
      "execution_count": 24,
      "metadata": {},
      "outputs": [],
      "source": [
        "def get_query_relevance(query_id):\n",
        "    result_docs = get_query_result_docs(query_id=query_id, query_documents=get_documents(query_id=query_id))\n",
        "\n",
        "    relevance = []\n",
        "    for x in result_docs:\n",
        "        relevance.append(x.relevance)\n",
        "        #print(\"K:\", i, \" \",x.document_id, \" \", x.relevance)\n",
        "    return relevance"
      ]
    },
    {
      "cell_type": "code",
      "execution_count": 25,
      "metadata": {},
      "outputs": [],
      "source": [
        "def get_true_relevance(query_id):\n",
        "    true_relevance = []\n",
        "    for qrel in get_qrels(query_id=query_id)[0:10]:\n",
        "        true_relevance.append(qrel.relevance)\n",
        "    return true_relevance"
      ]
    },
    {
      "cell_type": "code",
      "execution_count": 26,
      "metadata": {},
      "outputs": [
        {
          "data": {
            "text/plain": [
              "0.40187973127517235"
            ]
          },
          "execution_count": 26,
          "metadata": {},
          "output_type": "execute_result"
        }
      ],
      "source": [
        "relevance = get_query_relevance(query_id=1)\n",
        "true_relevance = get_true_relevance(query_id=1)\n",
        "calc_ndcg_k(relevance,true_relevance)"
      ]
    },
    {
      "cell_type": "code",
      "execution_count": 32,
      "metadata": {},
      "outputs": [],
      "source": [
        "def sum_relevance(relevances):\n",
        "    sm = 0\n",
        "    for x in relevances:\n",
        "        sm += x\n",
        "    return sm"
      ]
    },
    {
      "cell_type": "code",
      "execution_count": 61,
      "metadata": {},
      "outputs": [
        {
          "data": {
            "text/html": [
              "<div>\n",
              "<style scoped>\n",
              "    .dataframe tbody tr th:only-of-type {\n",
              "        vertical-align: middle;\n",
              "    }\n",
              "\n",
              "    .dataframe tbody tr th {\n",
              "        vertical-align: top;\n",
              "    }\n",
              "\n",
              "    .dataframe thead th {\n",
              "        text-align: right;\n",
              "    }\n",
              "</style>\n",
              "<table border=\"1\" class=\"dataframe\">\n",
              "  <thead>\n",
              "    <tr style=\"text-align: right;\">\n",
              "      <th></th>\n",
              "      <th>query_id</th>\n",
              "      <th>true_dcg_k</th>\n",
              "      <th>nir_dcg_k</th>\n",
              "      <th>nir_ndcg_k</th>\n",
              "    </tr>\n",
              "  </thead>\n",
              "  <tbody>\n",
              "    <tr>\n",
              "      <th>0</th>\n",
              "      <td>1</td>\n",
              "      <td>12.160512</td>\n",
              "      <td>4.887063</td>\n",
              "      <td>0.401880</td>\n",
              "    </tr>\n",
              "    <tr>\n",
              "      <th>1</th>\n",
              "      <td>2</td>\n",
              "      <td>10.974631</td>\n",
              "      <td>5.669101</td>\n",
              "      <td>0.516564</td>\n",
              "    </tr>\n",
              "    <tr>\n",
              "      <th>2</th>\n",
              "      <td>56</td>\n",
              "      <td>15.043308</td>\n",
              "      <td>1.160558</td>\n",
              "      <td>0.077148</td>\n",
              "    </tr>\n",
              "    <tr>\n",
              "      <th>3</th>\n",
              "      <td>83</td>\n",
              "      <td>4.736360</td>\n",
              "      <td>0.712414</td>\n",
              "      <td>0.150414</td>\n",
              "    </tr>\n",
              "    <tr>\n",
              "      <th>4</th>\n",
              "      <td>97</td>\n",
              "      <td>14.749237</td>\n",
              "      <td>1.156259</td>\n",
              "      <td>0.078395</td>\n",
              "    </tr>\n",
              "    <tr>\n",
              "      <th>5</th>\n",
              "      <td>100</td>\n",
              "      <td>10.010156</td>\n",
              "      <td>0.666667</td>\n",
              "      <td>0.066599</td>\n",
              "    </tr>\n",
              "    <tr>\n",
              "      <th>6</th>\n",
              "      <td>171</td>\n",
              "      <td>3.200253</td>\n",
              "      <td>0.386853</td>\n",
              "      <td>0.120882</td>\n",
              "    </tr>\n",
              "    <tr>\n",
              "      <th>7</th>\n",
              "      <td>189</td>\n",
              "      <td>10.676822</td>\n",
              "      <td>0.666667</td>\n",
              "      <td>0.062441</td>\n",
              "    </tr>\n",
              "    <tr>\n",
              "      <th>8</th>\n",
              "      <td>196</td>\n",
              "      <td>11.216587</td>\n",
              "      <td>1.068622</td>\n",
              "      <td>0.095272</td>\n",
              "    </tr>\n",
              "    <tr>\n",
              "      <th>9</th>\n",
              "      <td>212</td>\n",
              "      <td>12.449576</td>\n",
              "      <td>3.075449</td>\n",
              "      <td>0.247032</td>\n",
              "    </tr>\n",
              "    <tr>\n",
              "      <th>10</th>\n",
              "      <td>213</td>\n",
              "      <td>10.384537</td>\n",
              "      <td>2.000000</td>\n",
              "      <td>0.192594</td>\n",
              "    </tr>\n",
              "    <tr>\n",
              "      <th>11</th>\n",
              "      <td>214</td>\n",
              "      <td>7.297966</td>\n",
              "      <td>0.946395</td>\n",
              "      <td>0.129679</td>\n",
              "    </tr>\n",
              "    <tr>\n",
              "      <th>12</th>\n",
              "      <td>225</td>\n",
              "      <td>12.449576</td>\n",
              "      <td>1.292030</td>\n",
              "      <td>0.103781</td>\n",
              "    </tr>\n",
              "  </tbody>\n",
              "</table>\n",
              "</div>"
            ],
            "text/plain": [
              "    query_id  true_dcg_k  nir_dcg_k  nir_ndcg_k\n",
              "0          1   12.160512   4.887063    0.401880\n",
              "1          2   10.974631   5.669101    0.516564\n",
              "2         56   15.043308   1.160558    0.077148\n",
              "3         83    4.736360   0.712414    0.150414\n",
              "4         97   14.749237   1.156259    0.078395\n",
              "5        100   10.010156   0.666667    0.066599\n",
              "6        171    3.200253   0.386853    0.120882\n",
              "7        189   10.676822   0.666667    0.062441\n",
              "8        196   11.216587   1.068622    0.095272\n",
              "9        212   12.449576   3.075449    0.247032\n",
              "10       213   10.384537   2.000000    0.192594\n",
              "11       214    7.297966   0.946395    0.129679\n",
              "12       225   12.449576   1.292030    0.103781"
            ]
          },
          "execution_count": 61,
          "metadata": {},
          "output_type": "execute_result"
        }
      ],
      "source": [
        "import pandas as pd\n",
        "\n",
        "query_id = []\n",
        "true_dcg_k = []\n",
        "nir_dcg_k = []\n",
        "nir_ndcg_k = []\n",
        "\n",
        "for id in range(1,256):\n",
        "    true_relevance = get_true_relevance(query_id=id)\n",
        "    relevance = get_query_relevance(query_id=id)\n",
        "\n",
        "    if sum_relevance(relevance) > 0:\n",
        "        query_id.append(id)\n",
        "        true_dcg_k.append(calc_dcg_k(true_relevance))\n",
        "        nir_dcg_k.append(calc_dcg_k(relevance))\n",
        "        nir_ndcg_k.append(calc_ndcg_k(relevance,true_relevance))\n",
        "            \n",
        "            \n",
        "details = {\n",
        "    'query_id': query_id,\n",
        "    'true_dcg_k': true_dcg_k,\n",
        "    'nir_dcg_k': nir_dcg_k,\n",
        "    'nir_ndcg_k': nir_ndcg_k,\n",
        "}\n",
        "\n",
        "\n",
        "df = pd.DataFrame(details)\n",
        "df.to_csv('nir_ndcg.csv')\n",
        "df"
      ]
    },
    {
      "cell_type": "code",
      "execution_count": 59,
      "metadata": {},
      "outputs": [
        {
          "data": {
            "image/png": "[encoded data removed]",
            "text/plain": [
              "<Figure size 500x270 with 1 Axes>"
            ]
          },
          "metadata": {},
          "output_type": "display_data"
        }
      ],
      "source": [
        "import matplotlib.pyplot as plt\n",
        "import numpy as np\n",
        "\n",
        "x = np.linspace(0, 2, 100)  # Sample data.\n",
        "\n",
        "# Note that even in the OO-style, we use `.pyplot.figure` to create the Figure.\n",
        "fig, ax = plt.subplots(figsize=(5, 2.7))\n",
        "# ax.scatter(relevance, true_relevance, s=50, facecolor='C0', edgecolor='k')\n",
        "ax.plot(true_relevance, 'd', label='Relevancia verdadeira')\n",
        "ax.plot(relevance, 'o', label='Relevancia NIR')\n",
        "ax.plot([2, 0, 3, -1, 4, 3, 4, 0, 0, 0], 'o', label='Relevancia ELS')\n",
        "ax.set_xlabel('Valor de k@')\n",
        "ax.set_ylabel('Relevancia')\n",
        "ax.legend()\n",
        "ax.grid(True)\n"
      ]
    }
  ],
  "metadata": {
    "colab": {
      "collapsed_sections": [],
      "name": "Avaliação do sistema.ipynb",
      "provenance": [],
      "toc_visible": true
    },
    "kernelspec": {
      "display_name": "Python 3.9.13 64-bit",
      "language": "python",
      "name": "python3"
    },
    "language_info": {
      "codemirror_mode": {
        "name": "ipython",
        "version": 3
      },
      "file_extension": ".py",
      "mimetype": "text/x-python",
      "name": "python",
      "nbconvert_exporter": "python",
      "pygments_lexer": "ipython3",
      "version": "3.9.13"
    },
    "vscode": {
      "interpreter": {
        "hash": "a665b5d41d17b532ea9890333293a1b812fa0b73c9c25c950b3cedf1bebd0438"
      }
    }
  },
  "nbformat": 4,
  "nbformat_minor": 0
}
